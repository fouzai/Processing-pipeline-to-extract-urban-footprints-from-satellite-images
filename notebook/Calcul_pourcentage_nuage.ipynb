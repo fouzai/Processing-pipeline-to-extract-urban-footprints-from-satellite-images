{
 "cells": [
  {
   "cell_type": "markdown",
   "id": "4a8f9531-fe8d-44e9-bc1d-d4f34946549d",
   "metadata": {},
   "source": [
    "# Analyse % nuages avec les fichiers Full-Resolution Browse Landsat C2 L1\n",
    "\n",
    "Le site <https://earthexplorer.usgs.gov/> permet de rechercher et télécharger des données d'aperçu en pleine résolution (30 m.) pour les produits Landsat C2 L1. Un aperçu en couleur naturelle est disponible, ainsi qu'un masque 8 bits. Les fichiers d'aperçus sont distribués au format GeoTIFF ce qui permet de les utiliser dans QGIS, et pèsent généralement 2 à 3 Mo.\n",
    "\n",
    "Voir **cette page** pour la documentation des aperçus en pleine résolution : <https://www.usgs.gov/landsat-missions/landsat-collection-2-full-resolution-browse-images>\n",
    "\n",
    "Le script Python qui suit montre comment tirer parti du masque 8 bits pour calculer le % de nuages sur une zone d'études.\n",
    "\n",
    "Nous avons téléchargé les données pour 8 sites d'études :\n",
    "\n",
    "- Georgetown\n",
    "- Corriverton_NNickerie\n",
    "- Paramaribo\n",
    "- Albina_StLaurentDuMaroni\n",
    "- Kourou\n",
    "- Cayenne\n",
    "- StGeorges_Oiapoque\n",
    "- Macapa\n",
    "\n",
    "Dans chaque site d'étude nous avons 3 datasets (capteur) :\n",
    "\n",
    "- Landsat 4-5 TM C2 L1\n",
    "- Landsat 7 ETM_ C2 L1\n",
    "- Landsat 8 OLI_TIRS C2 L1\n",
    "\n",
    "Pour chaque dataset, nous avons téléchargé les données suivantes :\n",
    "\n",
    "- Full-Resolution Browse (Natural Color) GeoTIFF, `*_refl_tif.tif`\n",
    "- Full-Resolution Browse (Quality) GeoTIFF, `*_qb_tif`\n"
   ]
  },
  {
   "cell_type": "markdown",
   "id": "9aff1802-c2a8-4b35-8fd9-51c4ca26bc44",
   "metadata": {},
   "source": [
    "L'algorithme mis en oeuvre sera le suivant :"
   ]
  },
  {
   "cell_type": "raw",
   "id": "1fbd8309-c2dc-483b-9843-a23b446af0aa",
   "metadata": {},
   "source": [
    "Pour chaque site :\n",
    "    Lire le fichier KMZ du site -> à charger dans un polygone P (WGS 84)\n",
    "    Pour chaque capteur :\n",
    "        Faire la liste des fichiers *_qb.tif (Quality 8 bits) dans le répertoire du capteur\n",
    "        Créer un dictionnaire D_SERIE vide pour mémoriser le % nuage du capteur\n",
    "        Pour chaque fichier QB Quality 8 bits :\n",
    "            Créer dictionnaire D_QB = caractéristiques du fichier QB \n",
    "            Analyser le nom du fichier : extraire le niveau de correction géom et la date, dans D_QB\n",
    "            Lire fichier \"_qb.tif\"\n",
    "            Extraire CRS du fichier \"_qb.tif\", dans D_QB\n",
    "            Convertir CRS polygone P (WGS84 -> CRS Geotiff)\n",
    "            Calculer le % nuages du produit pour le polygone P, dans D_QB          \n",
    "            Ajouter le dict D_QB au dictionnaire D_SERIE\n",
    "            [Optionnel] créer une image d'aperçu recadrée sur la zone d'étude\n",
    "        Plotter sur un tableau le % nuages du capteur (-> fichier .png)\n"
   ]
  },
  {
   "cell_type": "markdown",
   "id": "882681ff-16d5-4a2f-9711-282bf5452cf4",
   "metadata": {},
   "source": [
    "### Lire les fichiers d'emprises (KMZ)"
   ]
  },
  {
   "cell_type": "code",
   "execution_count": 1,
   "id": "14930b81-9d80-4d71-a5c2-7ef778a9ec6e",
   "metadata": {},
   "outputs": [
    {
     "data": {
      "text/plain": [
       "0    POLYGON Z ((-54.05343 5.40050 0.00000, -54.051...\n",
       "Name: geometry, dtype: geometry"
      ]
     },
     "execution_count": 1,
     "metadata": {},
     "output_type": "execute_result"
    }
   ],
   "source": [
    "# fonction pour lire l'emprise d'une zone d'étude (.kmz)\n",
    "# on suppose que le fichier ne contient qu'un seul polygone\n",
    "import geopandas as gpd\n",
    "\n",
    "# Activer fiona driver pour KML / KMZ\n",
    "gpd.io.file.fiona.drvsupport.supported_drivers[\"LIBKML\"] = 'r'\n",
    "\n",
    "def lire_kmz(path_kmz):\n",
    "    gdf = gpd.read_file(path_kmz, driver='LIBKML')\n",
    "    return gdf.geometry\n",
    "\n",
    "geom_stlaurent_albina = lire_kmz(\"../KML_Progysat/Prog_Dinamis/St-Laurent-Du-Maroni_Albina.kmz\")\n",
    "geom_stlaurent_albina\n"
   ]
  },
  {
   "cell_type": "markdown",
   "id": "f7a11e78-681a-47df-86b0-f26614eda475",
   "metadata": {},
   "source": [
    "### Extraire une fenêtre correspondant à l'emprise\n",
    "\n",
    "Nous lisons les métadonnées du raster, et extrayons les informations du nom de fichier. "
   ]
  },
  {
   "cell_type": "code",
   "execution_count": 2,
   "id": "edfd66e9-aaf5-4aa6-9db2-874bdf398f06",
   "metadata": {},
   "outputs": [
    {
     "data": {
      "text/plain": [
       "{'driver': 'GTiff',\n",
       " 'dtype': 'uint8',\n",
       " 'nodata': None,\n",
       " 'width': 7561,\n",
       " 'height': 7731,\n",
       " 'count': 1,\n",
       " 'crs': CRS.from_epsg(32621),\n",
       " 'transform': Affine(30.0, 0.0, 710985.0,\n",
       "        0.0, -30.0, 755715.0),\n",
       " 'sensor': 'LC08',\n",
       " 'geom_proc_level': 'L1TP',\n",
       " 'pathrow': '228056',\n",
       " 'date': '20130714'}"
      ]
     },
     "execution_count": 2,
     "metadata": {},
     "output_type": "execute_result"
    }
   ],
   "source": [
    "# fonction pour lire les propriétés d'une image '_qb.tif'\n",
    "# et calculer le % nuages\n",
    "\n",
    "import numpy as np\n",
    "import rasterio\n",
    "from os.path import join, basename\n",
    "\n",
    "def attr_qb(path_tif):\n",
    "    with rasterio.open(path_tif) as src:\n",
    "        dict_qb = src.meta.copy()\n",
    "    nom_fichier = basename(path_tif)\n",
    "    l_nom = nom_fichier.split('_')\n",
    "    dict_qb.update({\n",
    "        'sensor': l_nom[0],\n",
    "        'geom_proc_level': l_nom[1],\n",
    "        'pathrow': l_nom[2],\n",
    "        'date': l_nom[3]\n",
    "    })\n",
    "    return dict_qb\n",
    "\n",
    "f_test_qb = (\"../Preview_Landsat/FullRes Browse/\"\n",
    "             \"Bulk Order Albina SaintLaurentDuMaroni/\"\n",
    "             \"Landsat 8 OLI_TIRS C2 L1/\"\n",
    "             \"LC08_L1TP_228056_20130714_20200912_02_T1_qb.tif\")\n",
    "    #mask_bit = np.bitwise_and(b, compare_mask)\n",
    "d_qb = attr_qb(f_test_qb)\n",
    "d_qb"
   ]
  },
  {
   "cell_type": "markdown",
   "id": "be5f0c90-869c-44f9-82e9-6d1080cce600",
   "metadata": {},
   "source": [
    "Nous calculons la position de la fenêtre à extraire dans le raster : celle-ci correspondra à la zone urbaine définie par le fichier KMZ + une zone tampon de 5000 mètres, dans le CRS de l'image Landsat (projection UTM)."
   ]
  },
  {
   "cell_type": "code",
   "execution_count": 3,
   "id": "63ef4529-e17e-4353-9851-490bbe79bb87",
   "metadata": {},
   "outputs": [
    {
     "data": {
      "text/plain": [
       "Window(col_off=3411, row_off=4565, width=864, height=896)"
      ]
     },
     "execution_count": 3,
     "metadata": {},
     "output_type": "execute_result"
    }
   ],
   "source": [
    "# reprojeter le polygone en espg 32621\n",
    "geom_utm = geom_stlaurent_albina.to_crs(d_qb['crs'])\n",
    "# limites du buffer 5000 m ?\n",
    "bounds_geom_utm = geom_utm.buffer(5000).total_bounds\n",
    "# position et dimension fenetre, arrondi\n",
    "win_geom_utm = rasterio.windows.from_bounds(*bounds_geom_utm, transform=d_qb['transform'])\n",
    "win_geom_utm = win_geom_utm.round_offsets().round_lengths()\n",
    "win_geom_utm"
   ]
  },
  {
   "cell_type": "code",
   "execution_count": 4,
   "id": "4947e2b1-81ba-4b4f-bbf2-e2c9d2e88cf4",
   "metadata": {},
   "outputs": [
    {
     "data": {
      "text/plain": [
       "<AxesSubplot:>"
      ]
     },
     "execution_count": 4,
     "metadata": {},
     "output_type": "execute_result"
    },
    {
     "data": {
      "image/png": "[encoded data removed]",
      "text/plain": [
       "<Figure size 360x360 with 1 Axes>"
      ]
     },
     "metadata": {
      "needs_background": "light"
     },
     "output_type": "display_data"
    }
   ],
   "source": [
    "# extraire donnee fenetre\n",
    "with rasterio.open(f_test_qb) as src:\n",
    "    w = src.read(1, window=win_geom_utm)\n",
    "    win_transform = src.window_transform(win_geom_utm)\n",
    "\n",
    "# aperçu graphique\n",
    "import rasterio.plot\n",
    "import matplotlib.pyplot as plt\n",
    "\n",
    "fig, ax = plt.subplots(figsize=(5,5))\n",
    "rasterio.plot.show(w, transform=win_transform, ax=ax)\n",
    "geom_utm.boundary.plot(ax=ax, color=\"orange\")"
   ]
  },
  {
   "cell_type": "markdown",
   "id": "ced16afe-e808-46ed-ba34-242cc1fe4d28",
   "metadata": {},
   "source": [
    "### Obtenir un masque raster et l'appliquer aux données nuages\n",
    "\n",
    "Nous avons maintenant les données raster issues de la fenêtre ainsi que le contour de la zone urbaine. Pour calculer le % de nuages, la solution la plus efficace est de **rastériser** la zone urbaine, et de l'utiliser comme masque inversé (masquer tous les pixels en dehors de la zone urbaine). La dernière étape sera d'appliquer un masque binaire et calculer les statistiques de la zone non masquée."
   ]
  },
  {
   "cell_type": "code",
   "execution_count": 5,
   "id": "7e5cf0a4-ecd6-4aaa-8864-27d144bdb8ae",
   "metadata": {},
   "outputs": [
    {
     "data": {
      "image/png": "[encoded data removed]",
      "text/plain": [
       "<Figure size 432x288 with 1 Axes>"
      ]
     },
     "metadata": {
      "needs_background": "light"
     },
     "output_type": "display_data"
    },
    {
     "data": {
      "text/plain": [
       "<AxesSubplot:>"
      ]
     },
     "execution_count": 5,
     "metadata": {},
     "output_type": "execute_result"
    }
   ],
   "source": [
    "# rasteriser zone urbaine\n",
    "from rasterio import features\n",
    "import numpy.ma as ma\n",
    "mask_zu = features.rasterize(\n",
    "    geom_utm,\n",
    "    out_shape=w.shape,\n",
    "    fill=1,\n",
    "    transform=win_transform,\n",
    "    all_touched=True,\n",
    "    default_value=0,\n",
    "    dtype=np.uint8\n",
    ")\n",
    "\n",
    "# masquer raster qb\n",
    "mw = ma.masked_array(w, mask=mask_zu)\n",
    "rasterio.plot.show(mw, transform=win_transform)\n"
   ]
  },
  {
   "cell_type": "markdown",
   "id": "f5027292-6d4c-4872-8d8d-512251622801",
   "metadata": {},
   "source": [
    "### Compter les valeurs"
   ]
  },
  {
   "cell_type": "code",
   "execution_count": 6,
   "id": "65a6f028-e940-4ffa-9126-b3b06b3b0b8d",
   "metadata": {
    "tags": []
   },
   "outputs": [],
   "source": [
    "ma_values, values_counts = np.unique(mw, return_counts=True)\n",
    "values = ma_values.compressed()\n",
    "values_counts = values_counts[~ma_values.mask]\n"
   ]
  },
  {
   "cell_type": "code",
   "execution_count": 7,
   "id": "2b87ca36-b43c-4b05-805e-808f358ca5ea",
   "metadata": {},
   "outputs": [
    {
     "data": {
      "text/plain": [
       "array([False, False,  True,  True,  True,  True])"
      ]
     },
     "execution_count": 7,
     "metadata": {},
     "output_type": "execute_result"
    }
   ],
   "source": [
    "# renvoie indices \n",
    "def apply_binary_mask(values, compare_mask):\n",
    "    \"\"\"Compte le nombre total de valeurs correspondant au masque binaire\"\"\"\n",
    "    values2 = np.bitwise_and(values, compare_mask)\n",
    "    return (values2!=0)\n",
    "\n",
    "test = np.array([0, 3, 8, 18, 24, 25], dtype=np.uint8)\n",
    "apply_binary_mask(test, 0b00011000)"
   ]
  },
  {
   "cell_type": "code",
   "execution_count": 8,
   "id": "6ef7bc66-836a-46e0-b73c-cb3996bc5ac1",
   "metadata": {
    "tags": []
   },
   "outputs": [
    {
     "name": "stdout",
     "output_type": "stream",
     "text": [
      "% pixels nuages et ombres = 16938 / 128989\n"
     ]
    }
   ],
   "source": [
    "is_cloud_shadow = apply_binary_mask(values, 0b00011000)\n",
    "nb_pixels_cloud_shadow = np.sum(values_counts[is_cloud_shadow])\n",
    "nb_pixels_data= np.sum(values_counts)\n",
    "\n",
    "print(f\"% pixels nuages et ombres = {nb_pixels_cloud_shadow} / {nb_pixels_data}\")\n"
   ]
  },
  {
   "cell_type": "markdown",
   "id": "143918e0-cb84-4403-bf13-3f31e0d4c409",
   "metadata": {},
   "source": [
    "### Récap : une fonction pour la surface de nuages\n",
    "\n",
    "Incluons tout ce que nous avons vu dans une fonction qui calcule le % de nuages : calcul et extraction de la fenêtre, rastérisation de la zone urbaine, Le calcul de pixels nuages et ombres. Cette fonction prendra comme paramètres : \n",
    "\n",
    "- le chemin d'accès du raster\n",
    "- la géométrie de la zone urbaine, qui définit le masque\n",
    "- les limites géographiques de la fenêtre de données\n",
    "\n",
    "Elle retournera un tuple avec : (nb de pixels nuages et ombres, nb de pixels total dans la zone analysée)."
   ]
  },
  {
   "cell_type": "code",
   "execution_count": 23,
   "id": "aacf4c1e-2a6e-414c-8aaa-f9cc664c0673",
   "metadata": {},
   "outputs": [
    {
     "data": {
      "text/plain": [
       "{'surf_nuage': 16938, 'surf_total': 128989}"
      ]
     },
     "execution_count": 23,
     "metadata": {},
     "output_type": "execute_result"
    }
   ],
   "source": [
    "# fonction : calcul nb pixel nuages et ombres\n",
    "def calc_p_nuages(path_tif, geom_utm, bounds_geom_utm):\n",
    "    # extraire donnee fenetre\n",
    "    with rasterio.open(path_tif) as src:\n",
    "        src_transform = src.transform\n",
    "        # position et dimension fenetre\n",
    "        win_geom_utm = rasterio.windows.from_bounds(*bounds_geom_utm, src_transform)\n",
    "        win_geom_utm = win_geom_utm.round_offsets().round_lengths()\n",
    "        w = src.read(1, window=win_geom_utm)\n",
    "        win_transform = src.window_transform(win_geom_utm)\n",
    "    # rasterisation\n",
    "    mask_zu = features.rasterize(\n",
    "        geom_utm,\n",
    "        out_shape=w.shape,\n",
    "        fill=1,\n",
    "        transform=win_transform,\n",
    "        all_touched=True,\n",
    "        default_value=0,\n",
    "        dtype=np.uint8\n",
    "    )\n",
    "    # masquer raster qb\n",
    "    mw = ma.masked_array(w, mask=mask_zu)\n",
    "    ma_values, values_counts = np.unique(mw, return_counts=True)\n",
    "    values = ma_values.compressed()\n",
    "    values_counts = values_counts[~ma_values.mask]\n",
    "    is_cloud_shadow = apply_binary_mask(values, 0b00011000)\n",
    "    nb_pixels_cloud_shadow = np.sum(values_counts[is_cloud_shadow])\n",
    "    nb_pixels_data= np.sum(values_counts)\n",
    "    return ({\n",
    "        'surf_nuage': nb_pixels_cloud_shadow, \n",
    "        'surf_total': nb_pixels_data})\n",
    "\n",
    "calc_p_nuages(f_test_qb, geom_utm, bounds_geom_utm)\n"
   ]
  },
  {
   "cell_type": "markdown",
   "id": "ccd4294c-0754-426e-ad1f-a126f6f070fd",
   "metadata": {},
   "source": [
    "### Application à tous les fichiers d'1 répertoire\n",
    "\n",
    "Nous souhaitons extraire le % nuages pour toutes les images de Saint-Laurent-du-Maroni. Nous générerons un tableau avec les colonnes suivantes :\n",
    "\n",
    "- identifiant du produit (le nom du fichier sans `_qb.tif`)\n",
    "- date produit\n",
    "- nb total pixels\n",
    "- nb pixels ombres et nuages\n",
    "- identifiant dataset\n",
    "- nom dataset\n",
    "\n",
    "Exemple avec le dataset _Landsat 8 OLI_TIRS C2 L1_ :\n"
   ]
  },
  {
   "cell_type": "code",
   "execution_count": 27,
   "id": "efae3ca2-ce5b-4e50-9577-a25f4f5c628b",
   "metadata": {},
   "outputs": [],
   "source": [
    "from os.path import join, basename\n",
    "import glob \n",
    "import pandas as pd\n",
    "\n",
    "# exemple pour Albina St Laurent du Maroni\n",
    "\n",
    "# identifiant datasets\n",
    "ID_DS_TM = \"landsat_tm_c2_l1\"\n",
    "ID_DS_ETM = \"landsat_etm_c2_l1\"\n",
    "ID_DS_OT = \"landsat_ot_c2_l1\"\n",
    "\n",
    "NAME_DS_TM = \"Landsat 4-5 TM C2 L1\"\n",
    "NAME_DS_ETM = \"Landsat 7 ETM_ C2 L1\"\n",
    "NAME_DS_OT = \"Landsat 8 OLI_TIRS C2 L1\"\n",
    "\n",
    "chemin_base = join(\"..\", \"Preview_Landsat\", \"FullRes Browse\")\n",
    "dossiers_site = [\"Bulk Order Albina SaintLaurentDuMaroni\"]\n",
    "\n",
    "test_qb = \"LC08_L1TP_228056_20130714_20200912_02_T1_qb.tif\"\n",
    "test_refl = \"LC08_L1TP_228056_20130714_20200912_02_T1_refl.tif\"\n",
    "\n",
    "# pour tester : \n",
    "f_test = join(chemin_base, dossiers_site[0], NAME_DS_OT, \"*_qb.tif\")\n",
    "\n",
    "# liste fichiers\n",
    "liste_fichiers_landsat8 = glob.glob(f_test)\n",
    "print(f\"Nb images : {len(liste_fichiers_landsat8)}\")"
   ]
  },
  {
   "cell_type": "code",
   "execution_count": 56,
   "id": "2184f858-fa49-4d2d-9568-14f0d729383e",
   "metadata": {},
   "outputs": [
    {
     "data": {
      "text/plain": [
       "{'dateprod': '2015-07-20', 'yearprod': '2015', 'monthprod': '07'}"
      ]
     },
     "execution_count": 56,
     "metadata": {},
     "output_type": "execute_result"
    }
   ],
   "source": [
    "def extraire_date(prodid):\n",
    "    date1 = prodid.split('_')[3]\n",
    "    if len(date1) < 8:\n",
    "        return None\n",
    "    return({\n",
    "        'dateprod': date1[0:4] + '-' + date1[4:6] + '-' + date1[6:8], \n",
    "        'yearprod': date1[0:4], \n",
    "        'monthprod': date1[4:6]})\n",
    "\n",
    "idprod0 = basename(liste_fichiers_landsat8[0])\n",
    "extraire_date(idprod0)"
   ]
  },
  {
   "cell_type": "code",
   "execution_count": 58,
   "id": "8b5d7b9a-7323-4333-a1af-5443209c5619",
   "metadata": {},
   "outputs": [
    {
     "name": "stdout",
     "output_type": "stream",
     "text": [
      "CPU times: total: 2.08 s\n",
      "Wall time: 2.08 s\n"
     ]
    }
   ],
   "source": [
    "%%time\n",
    "# exemple : nom de produit (suppr 7 derniers car)\n",
    "idprod = [basename(x)[:-7] for x in liste_fichiers_landsat8]\n",
    "dateprod = [extraire_date(basename(x)) for x in liste_fichiers_landsat8]\n",
    "liste_analyse = [calc_p_nuages(x, geom_utm, bounds_geom_utm) for x in liste_fichiers_landsat8]"
   ]
  },
  {
   "cell_type": "code",
   "execution_count": 62,
   "id": "a744f41d-97c3-4d16-a317-32bd74a77c70",
   "metadata": {},
   "outputs": [
    {
     "data": {
      "text/html": [
       "<div>\n",
       "<style scoped>\n",
       "    .dataframe tbody tr th:only-of-type {\n",
       "        vertical-align: middle;\n",
       "    }\n",
       "\n",
       "    .dataframe tbody tr th {\n",
       "        vertical-align: top;\n",
       "    }\n",
       "\n",
       "    .dataframe thead th {\n",
       "        text-align: right;\n",
       "    }\n",
       "</style>\n",
       "<table border=\"1\" class=\"dataframe\">\n",
       "  <thead>\n",
       "    <tr style=\"text-align: right;\">\n",
       "      <th></th>\n",
       "      <th>idprod</th>\n",
       "      <th>dateprod</th>\n",
       "      <th>yearprod</th>\n",
       "      <th>monthprod</th>\n",
       "      <th>surf_nuage</th>\n",
       "      <th>surf_total</th>\n",
       "      <th>p_nuage</th>\n",
       "    </tr>\n",
       "  </thead>\n",
       "  <tbody>\n",
       "    <tr>\n",
       "      <th>0</th>\n",
       "      <td>LC08_L1GT_228056_20150720_20200908_02_T2</td>\n",
       "      <td>2015-07-20</td>\n",
       "      <td>2015</td>\n",
       "      <td>07</td>\n",
       "      <td>128989</td>\n",
       "      <td>128989</td>\n",
       "      <td>100.000000</td>\n",
       "    </tr>\n",
       "    <tr>\n",
       "      <th>1</th>\n",
       "      <td>LC08_L1GT_228056_20170607_20200903_02_T2</td>\n",
       "      <td>2017-06-07</td>\n",
       "      <td>2017</td>\n",
       "      <td>06</td>\n",
       "      <td>128987</td>\n",
       "      <td>128989</td>\n",
       "      <td>99.998449</td>\n",
       "    </tr>\n",
       "    <tr>\n",
       "      <th>2</th>\n",
       "      <td>LC08_L1GT_228056_20200701_20200913_02_T2</td>\n",
       "      <td>2020-07-01</td>\n",
       "      <td>2020</td>\n",
       "      <td>07</td>\n",
       "      <td>0</td>\n",
       "      <td>128989</td>\n",
       "      <td>0.000000</td>\n",
       "    </tr>\n",
       "    <tr>\n",
       "      <th>3</th>\n",
       "      <td>LC08_L1GT_228056_20210704_20210713_02_T2</td>\n",
       "      <td>2021-07-04</td>\n",
       "      <td>2021</td>\n",
       "      <td>07</td>\n",
       "      <td>128989</td>\n",
       "      <td>128989</td>\n",
       "      <td>100.000000</td>\n",
       "    </tr>\n",
       "    <tr>\n",
       "      <th>4</th>\n",
       "      <td>LC08_L1TP_228056_20130612_20200912_02_T1</td>\n",
       "      <td>2013-06-12</td>\n",
       "      <td>2013</td>\n",
       "      <td>06</td>\n",
       "      <td>78397</td>\n",
       "      <td>128989</td>\n",
       "      <td>60.778051</td>\n",
       "    </tr>\n",
       "    <tr>\n",
       "      <th>...</th>\n",
       "      <td>...</td>\n",
       "      <td>...</td>\n",
       "      <td>...</td>\n",
       "      <td>...</td>\n",
       "      <td>...</td>\n",
       "      <td>...</td>\n",
       "      <td>...</td>\n",
       "    </tr>\n",
       "    <tr>\n",
       "      <th>78</th>\n",
       "      <td>LC08_L1TP_228056_20210720_20210729_02_T1</td>\n",
       "      <td>2021-07-20</td>\n",
       "      <td>2021</td>\n",
       "      <td>07</td>\n",
       "      <td>73247</td>\n",
       "      <td>128989</td>\n",
       "      <td>56.785462</td>\n",
       "    </tr>\n",
       "    <tr>\n",
       "      <th>79</th>\n",
       "      <td>LC08_L1TP_228056_20210805_20210811_02_T1</td>\n",
       "      <td>2021-08-05</td>\n",
       "      <td>2021</td>\n",
       "      <td>08</td>\n",
       "      <td>15507</td>\n",
       "      <td>128989</td>\n",
       "      <td>12.021955</td>\n",
       "    </tr>\n",
       "    <tr>\n",
       "      <th>80</th>\n",
       "      <td>LC08_L1TP_228056_20210821_20210827_02_T1</td>\n",
       "      <td>2021-08-21</td>\n",
       "      <td>2021</td>\n",
       "      <td>08</td>\n",
       "      <td>9128</td>\n",
       "      <td>128989</td>\n",
       "      <td>7.076572</td>\n",
       "    </tr>\n",
       "    <tr>\n",
       "      <th>81</th>\n",
       "      <td>LC08_L1TP_228056_20210906_20210915_02_T1</td>\n",
       "      <td>2021-09-06</td>\n",
       "      <td>2021</td>\n",
       "      <td>09</td>\n",
       "      <td>128969</td>\n",
       "      <td>128989</td>\n",
       "      <td>99.984495</td>\n",
       "    </tr>\n",
       "    <tr>\n",
       "      <th>82</th>\n",
       "      <td>LC08_L1TP_228056_20210922_20210930_02_T1</td>\n",
       "      <td>2021-09-22</td>\n",
       "      <td>2021</td>\n",
       "      <td>09</td>\n",
       "      <td>71442</td>\n",
       "      <td>128989</td>\n",
       "      <td>55.386118</td>\n",
       "    </tr>\n",
       "  </tbody>\n",
       "</table>\n",
       "<p>83 rows × 7 columns</p>\n",
       "</div>"
      ],
      "text/plain": [
       "                                      idprod    dateprod yearprod monthprod  \\\n",
       "0   LC08_L1GT_228056_20150720_20200908_02_T2  2015-07-20     2015        07   \n",
       "1   LC08_L1GT_228056_20170607_20200903_02_T2  2017-06-07     2017        06   \n",
       "2   LC08_L1GT_228056_20200701_20200913_02_T2  2020-07-01     2020        07   \n",
       "3   LC08_L1GT_228056_20210704_20210713_02_T2  2021-07-04     2021        07   \n",
       "4   LC08_L1TP_228056_20130612_20200912_02_T1  2013-06-12     2013        06   \n",
       "..                                       ...         ...      ...       ...   \n",
       "78  LC08_L1TP_228056_20210720_20210729_02_T1  2021-07-20     2021        07   \n",
       "79  LC08_L1TP_228056_20210805_20210811_02_T1  2021-08-05     2021        08   \n",
       "80  LC08_L1TP_228056_20210821_20210827_02_T1  2021-08-21     2021        08   \n",
       "81  LC08_L1TP_228056_20210906_20210915_02_T1  2021-09-06     2021        09   \n",
       "82  LC08_L1TP_228056_20210922_20210930_02_T1  2021-09-22     2021        09   \n",
       "\n",
       "    surf_nuage  surf_total     p_nuage  \n",
       "0       128989      128989  100.000000  \n",
       "1       128987      128989   99.998449  \n",
       "2            0      128989    0.000000  \n",
       "3       128989      128989  100.000000  \n",
       "4        78397      128989   60.778051  \n",
       "..         ...         ...         ...  \n",
       "78       73247      128989   56.785462  \n",
       "79       15507      128989   12.021955  \n",
       "80        9128      128989    7.076572  \n",
       "81      128969      128989   99.984495  \n",
       "82       71442      128989   55.386118  \n",
       "\n",
       "[83 rows x 7 columns]"
      ]
     },
     "execution_count": 62,
     "metadata": {},
     "output_type": "execute_result"
    }
   ],
   "source": [
    "df_idprod = pd.DataFrame({'idprod': idprod})\n",
    "df_date = pd.DataFrame(dateprod)\n",
    "df_analyse = pd.DataFrame(liste_analyse)\n",
    "\n",
    "df = pd.concat([df_idprod, df_date, df_analyse], axis=1)\n",
    "df['p_nuage'] = 100. * df['surf_nuage'] / df['surf_total'] \n",
    "df"
   ]
  },
  {
   "cell_type": "markdown",
   "id": "1033f342-0732-45d9-b51e-da1335148dbe",
   "metadata": {},
   "source": [
    "### Enregistrer au format excel"
   ]
  },
  {
   "cell_type": "code",
   "execution_count": 54,
   "id": "43caad03-016f-442b-b33d-961ab4edb093",
   "metadata": {},
   "outputs": [],
   "source": [
    "df.to_excel('exemple_SaintLaurentDuMaroni.xlsx')"
   ]
  },
  {
   "cell_type": "markdown",
   "id": "c8de2c6b-3f5c-4b69-b1ec-76ede11448bf",
   "metadata": {},
   "source": [
    "### Représenter le % de nuages sur un graphique\n",
    "\n",
    "Pour visualiser les mois et années les moins nuageux et identifier rapidement les données exploitables, nous générerons un graphique de type _heatmap_ grâce au package `seaborn`.\n",
    "\n",
    "Nous pouvons nous inspirer du code python suivant : <https://towardsdatascience.com/create-githubs-style-contributions-plot-for-your-time-series-data-79df84ec93da>\n",
    "\n",
    "La 1ère étape est de calculer pour chaque mois de chaque année le **nombre total d'images disponibles**, ainsi que la **valeur minimale du % de nuages**.\n",
    "\n",
    "Remarque : on \"réindexe\" les colonnes avec une liste d'années (exemple : de 1984 à 2011) pour être sûr que les années sans images apparaîtront quand même dans le graphique final.\n"
   ]
  },
  {
   "cell_type": "code",
   "execution_count": 99,
   "id": "6ce341e5-9acd-401d-9412-b3f35f99e43b",
   "metadata": {},
   "outputs": [
    {
     "data": {
      "text/html": [
       "<div>\n",
       "<style scoped>\n",
       "    .dataframe tbody tr th:only-of-type {\n",
       "        vertical-align: middle;\n",
       "    }\n",
       "\n",
       "    .dataframe tbody tr th {\n",
       "        vertical-align: top;\n",
       "    }\n",
       "\n",
       "    .dataframe thead th {\n",
       "        text-align: right;\n",
       "    }\n",
       "</style>\n",
       "<table border=\"1\" class=\"dataframe\">\n",
       "  <thead>\n",
       "    <tr style=\"text-align: right;\">\n",
       "      <th>yearprod</th>\n",
       "      <th>2013</th>\n",
       "      <th>2014</th>\n",
       "      <th>2015</th>\n",
       "      <th>2016</th>\n",
       "      <th>2017</th>\n",
       "      <th>2018</th>\n",
       "      <th>2019</th>\n",
       "      <th>2020</th>\n",
       "      <th>2021</th>\n",
       "    </tr>\n",
       "    <tr>\n",
       "      <th>monthprod</th>\n",
       "      <th></th>\n",
       "      <th></th>\n",
       "      <th></th>\n",
       "      <th></th>\n",
       "      <th></th>\n",
       "      <th></th>\n",
       "      <th></th>\n",
       "      <th></th>\n",
       "      <th></th>\n",
       "    </tr>\n",
       "  </thead>\n",
       "  <tbody>\n",
       "    <tr>\n",
       "      <th>06</th>\n",
       "      <td>60.778051</td>\n",
       "      <td>48.485530</td>\n",
       "      <td>67.307290</td>\n",
       "      <td>68.636861</td>\n",
       "      <td>99.998449</td>\n",
       "      <td>61.775810</td>\n",
       "      <td>93.908008</td>\n",
       "      <td>99.810061</td>\n",
       "      <td>65.417206</td>\n",
       "    </tr>\n",
       "    <tr>\n",
       "      <th>07</th>\n",
       "      <td>13.131352</td>\n",
       "      <td>79.217608</td>\n",
       "      <td>63.476731</td>\n",
       "      <td>39.018056</td>\n",
       "      <td>39.408787</td>\n",
       "      <td>57.190148</td>\n",
       "      <td>55.721806</td>\n",
       "      <td>0.000000</td>\n",
       "      <td>56.785462</td>\n",
       "    </tr>\n",
       "    <tr>\n",
       "      <th>08</th>\n",
       "      <td>1.432680</td>\n",
       "      <td>46.611727</td>\n",
       "      <td>67.422803</td>\n",
       "      <td>100.000000</td>\n",
       "      <td>27.655071</td>\n",
       "      <td>40.741459</td>\n",
       "      <td>45.457365</td>\n",
       "      <td>50.538418</td>\n",
       "      <td>7.076572</td>\n",
       "    </tr>\n",
       "    <tr>\n",
       "      <th>09</th>\n",
       "      <td>78.060920</td>\n",
       "      <td>0.002326</td>\n",
       "      <td>19.969920</td>\n",
       "      <td>44.217724</td>\n",
       "      <td>66.278520</td>\n",
       "      <td>56.390080</td>\n",
       "      <td>17.801518</td>\n",
       "      <td>7.830900</td>\n",
       "      <td>55.386118</td>\n",
       "    </tr>\n",
       "    <tr>\n",
       "      <th>10</th>\n",
       "      <td>55.019420</td>\n",
       "      <td>22.617432</td>\n",
       "      <td>14.334556</td>\n",
       "      <td>55.859027</td>\n",
       "      <td>26.367365</td>\n",
       "      <td>57.183171</td>\n",
       "      <td>26.039430</td>\n",
       "      <td>37.528006</td>\n",
       "      <td>NaN</td>\n",
       "    </tr>\n",
       "  </tbody>\n",
       "</table>\n",
       "</div>"
      ],
      "text/plain": [
       "yearprod        2013       2014       2015        2016       2017       2018  \\\n",
       "monthprod                                                                      \n",
       "06         60.778051  48.485530  67.307290   68.636861  99.998449  61.775810   \n",
       "07         13.131352  79.217608  63.476731   39.018056  39.408787  57.190148   \n",
       "08          1.432680  46.611727  67.422803  100.000000  27.655071  40.741459   \n",
       "09         78.060920   0.002326  19.969920   44.217724  66.278520  56.390080   \n",
       "10         55.019420  22.617432  14.334556   55.859027  26.367365  57.183171   \n",
       "\n",
       "yearprod        2019       2020       2021  \n",
       "monthprod                                   \n",
       "06         93.908008  99.810061  65.417206  \n",
       "07         55.721806   0.000000  56.785462  \n",
       "08         45.457365  50.538418   7.076572  \n",
       "09         17.801518   7.830900  55.386118  \n",
       "10         26.039430  37.528006        NaN  "
      ]
     },
     "execution_count": 99,
     "metadata": {},
     "output_type": "execute_result"
    }
   ],
   "source": [
    "# chercher pour chaque mois et chaque année le % min de nuage \n",
    "def agg_value(data_sensor, aggname, index_an, fill_value=None,\n",
    "                  col_id='idprod', col_an='year', col_mois='month', col_pnuage = 'p_nuage'):    \n",
    "    pivoted_min = pd.pivot_table(\n",
    "        data_sensor, values=col_pnuage, index=col_mois , columns=col_an, \n",
    "        aggfunc=aggname, fill_value=fill_value)\n",
    "    pivoted_min = pivoted_min.reindex(columns=liste_annees)\n",
    "    return pivoted_min\n",
    "\n",
    "annees_l8 = [str(x) for x in range(2013, 2022)]\n",
    "kwds = {\n",
    "    'col_id': 'idprod', 'col_an': 'yearprod', \n",
    "    'col_mois': 'monthprod', 'col_pnuage': 'p_nuage'\n",
    "}\n",
    "\n",
    "df_min_nuages = agg_value(df, 'min', index_an=annees_l8, **kwds)\n",
    "df_min_nuages"
   ]
  },
  {
   "cell_type": "code",
   "execution_count": 100,
   "id": "7731e00d-30df-4b07-bb34-fb3028172058",
   "metadata": {},
   "outputs": [
    {
     "data": {
      "text/html": [
       "<div>\n",
       "<style scoped>\n",
       "    .dataframe tbody tr th:only-of-type {\n",
       "        vertical-align: middle;\n",
       "    }\n",
       "\n",
       "    .dataframe tbody tr th {\n",
       "        vertical-align: top;\n",
       "    }\n",
       "\n",
       "    .dataframe thead th {\n",
       "        text-align: right;\n",
       "    }\n",
       "</style>\n",
       "<table border=\"1\" class=\"dataframe\">\n",
       "  <thead>\n",
       "    <tr style=\"text-align: right;\">\n",
       "      <th>yearprod</th>\n",
       "      <th>2013</th>\n",
       "      <th>2014</th>\n",
       "      <th>2015</th>\n",
       "      <th>2016</th>\n",
       "      <th>2017</th>\n",
       "      <th>2018</th>\n",
       "      <th>2019</th>\n",
       "      <th>2020</th>\n",
       "      <th>2021</th>\n",
       "    </tr>\n",
       "    <tr>\n",
       "      <th>monthprod</th>\n",
       "      <th></th>\n",
       "      <th></th>\n",
       "      <th></th>\n",
       "      <th></th>\n",
       "      <th></th>\n",
       "      <th></th>\n",
       "      <th></th>\n",
       "      <th></th>\n",
       "      <th></th>\n",
       "    </tr>\n",
       "  </thead>\n",
       "  <tbody>\n",
       "    <tr>\n",
       "      <th>06</th>\n",
       "      <td>2</td>\n",
       "      <td>1</td>\n",
       "      <td>2</td>\n",
       "      <td>2</td>\n",
       "      <td>2</td>\n",
       "      <td>2</td>\n",
       "      <td>2</td>\n",
       "      <td>1</td>\n",
       "      <td>2</td>\n",
       "    </tr>\n",
       "    <tr>\n",
       "      <th>07</th>\n",
       "      <td>2</td>\n",
       "      <td>2</td>\n",
       "      <td>2</td>\n",
       "      <td>2</td>\n",
       "      <td>2</td>\n",
       "      <td>2</td>\n",
       "      <td>2</td>\n",
       "      <td>2</td>\n",
       "      <td>2</td>\n",
       "    </tr>\n",
       "    <tr>\n",
       "      <th>08</th>\n",
       "      <td>2</td>\n",
       "      <td>2</td>\n",
       "      <td>2</td>\n",
       "      <td>2</td>\n",
       "      <td>2</td>\n",
       "      <td>2</td>\n",
       "      <td>1</td>\n",
       "      <td>2</td>\n",
       "      <td>2</td>\n",
       "    </tr>\n",
       "    <tr>\n",
       "      <th>09</th>\n",
       "      <td>1</td>\n",
       "      <td>2</td>\n",
       "      <td>2</td>\n",
       "      <td>2</td>\n",
       "      <td>2</td>\n",
       "      <td>2</td>\n",
       "      <td>2</td>\n",
       "      <td>2</td>\n",
       "      <td>2</td>\n",
       "    </tr>\n",
       "    <tr>\n",
       "      <th>10</th>\n",
       "      <td>2</td>\n",
       "      <td>2</td>\n",
       "      <td>2</td>\n",
       "      <td>2</td>\n",
       "      <td>2</td>\n",
       "      <td>1</td>\n",
       "      <td>2</td>\n",
       "      <td>2</td>\n",
       "      <td>0</td>\n",
       "    </tr>\n",
       "  </tbody>\n",
       "</table>\n",
       "</div>"
      ],
      "text/plain": [
       "yearprod   2013  2014  2015  2016  2017  2018  2019  2020  2021\n",
       "monthprod                                                      \n",
       "06            2     1     2     2     2     2     2     1     2\n",
       "07            2     2     2     2     2     2     2     2     2\n",
       "08            2     2     2     2     2     2     1     2     2\n",
       "09            1     2     2     2     2     2     2     2     2\n",
       "10            2     2     2     2     2     1     2     2     0"
      ]
     },
     "execution_count": 100,
     "metadata": {},
     "output_type": "execute_result"
    }
   ],
   "source": [
    "df_count_img = agg_value(df, 'count', index_an=annees_l8, fill_value=0, **kwds)\n",
    "df_count_img"
   ]
  },
  {
   "cell_type": "code",
   "execution_count": 101,
   "id": "6df80411-61aa-40d8-91c9-40c4df010302",
   "metadata": {},
   "outputs": [],
   "source": [
    "import pandas as pd\n",
    "import seaborn as sns\n",
    "import matplotlib.pyplot as plt\n",
    "\n",
    "def timeline_graph(df_min, df_count, titre, fichier_png,\n",
    "                coul_graph='PiYG_r', size=(12,5)):\n",
    "    \"\"\"Crée un graphique de type heatmap à partir des dates d'image sat\"\"\"\n",
    "\n",
    "    # dessiner heatmap en vert (ou autre couleur)\n",
    "    colors_fig = sns.color_palette(palette=coul_graph, n_colors=10)\n",
    "    plt.figure(figsize = size)\n",
    "    plt.title(titre_graph)\n",
    "    plt.tick_params(length=0)\n",
    "    g = sns.heatmap(\n",
    "        df_min, \n",
    "        vmin=0, vmax=100, cmap=colors_fig, annot=df_count,\n",
    "        linewidths=5, linecolor='white', square=True)\n",
    "    # Nan en gris clair\n",
    "    g.set_facecolor((0.9, 0.9, 0.9))\n",
    "    plt.savefig(fichier_png)\n"
   ]
  },
  {
   "cell_type": "code",
   "execution_count": 102,
   "id": "32e83be8-31a4-4322-8b50-a6f455a16ea1",
   "metadata": {},
   "outputs": [
    {
     "data": {
      "image/png": "[encoded data removed]",
      "text/plain": [
       "<Figure size 864x360 with 2 Axes>"
      ]
     },
     "metadata": {
      "needs_background": "light"
     },
     "output_type": "display_data"
    }
   ],
   "source": [
    "titre_graph = ('Albina, Saint-Laurent-du-Maroni --- '\n",
    "               'Landsat 8 OLI TIRS C2 L1 1913-2022 --- P. min de nuages')\n",
    "timeline_graph(\n",
    "    df_min_nuages, df_count_img, titre_graph,\n",
    "    fichier_png = 'exemple_SaintLaurentDuMaroni.png',\n",
    "    coul_graph='PiYG_r', size=(12,5))\n"
   ]
  },
  {
   "cell_type": "markdown",
   "id": "378a86c3",
   "metadata": {},
   "source": [
    "### Ce notebook a été créé par Cyril Bernard : cyril.bernard@ird.fr "
   ]
  }
 ],
 "metadata": {
  "kernelspec": {
   "display_name": "Python 3",
   "language": "python",
   "name": "python3"
  },
  "language_info": {
   "codemirror_mode": {
    "name": "ipython",
    "version": 3
   },
   "file_extension": ".py",
   "mimetype": "text/x-python",
   "name": "python",
   "nbconvert_exporter": "python",
   "pygments_lexer": "ipython3",
   "version": "3.6.11"
  }
 },
 "nbformat": 4,
 "nbformat_minor": 5
}
