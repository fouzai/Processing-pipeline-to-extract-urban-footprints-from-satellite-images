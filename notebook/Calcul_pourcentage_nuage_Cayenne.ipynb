{
 "cells": [
  {
   "cell_type": "markdown",
   "id": "4a8f9531-fe8d-44e9-bc1d-d4f34946549d",
   "metadata": {},
   "source": [
    "# Analyse % nuages avec les fichiers Sentinel S2\n",
    "\n",
    "Le site <https://theia.cnes.fr/atdistrib/rocket/#/home> permet de rechercher et télécharger des données d'aperçu en pleine résolution (10 m.) pour les produits Sentinel 2 . Un aperçu en couleur naturelle est disponible, ainsi qu'un masque 8 bits. Les fichiers d'aperçus sont distribués au format GeoTIFF ce qui permet de les utiliser dans QGIS, et pèsent généralement 2 à 3 Mo.\n",
    "\n",
    "\n",
    "Le script Python qui suit montre comment tirer parti du masque 8 bits pour calculer le % de nuages sur une zone d'études.\n",
    "\n",
    "Nous avons téléchargé les données pour 8 sites d'études :\n",
    "\n",
    "- Georgetown\n",
    "- Corriverton_NNickerie\n",
    "- Paramaribo\n",
    "- Albina_StLaurentDuMaroni\n",
    "- Kourou\n",
    "- Cayenne\n",
    "- StGeorges_Oiapoque\n",
    "- Macapa\n",
    "\n",
    "\n",
    "\n",
    "# Masque de nuages sur les données Sentinel S2\n",
    "\n",
    "\n",
    "## Fichier CLM_BAND\n",
    "\n",
    "\n",
    "Voici la documentation officielle qui indique la signification des 8 bits.\n",
    "\n",
    "bit 0 (1) : Tous nuages (sauf les plus fins), et toutes les ombres.\n",
    "\n",
    "bit 1 (2) : Tous nuages (sauf les plus fins).\n",
    "\n",
    "bit 2 (4) : Nuages détectés par seuil absolu dans le bleu.\n",
    "\n",
    "bit 3 (8) : Nuages détectés par seuil multi-temporel.\n",
    "\n",
    "bit 4 (16) : Nuages très fins.\n",
    "\n",
    "bit 5 (32) : Ombres de nuages correspondant à un nuage. \n",
    "\n",
    "bit 6 (64) : Ombres de nuages détectés dans la zone où les nuages pourraient être hors image (moins fiable).\n",
    "\n",
    "bit 7 (128) : Nuages hauts détectés par la bande 1.38 µm.\n",
    "\n"
   ]
  },
  {
   "cell_type": "markdown",
   "id": "9aff1802-c2a8-4b35-8fd9-51c4ca26bc44",
   "metadata": {},
   "source": [
    "L'algorithme mis en oeuvre sera le suivant :"
   ]
  },
  {
   "cell_type": "raw",
   "id": "1fbd8309-c2dc-483b-9843-a23b446af0aa",
   "metadata": {},
   "source": [
    "Pour chaque site :\n",
    "    Lire le fichier KMZ du site -> à charger dans un polygone P (WGS 84)\n",
    "    Pour chaque capteur :\n",
    "        Faire la liste des fichiers *_CLM_R1.tif (Masque de nuage 8 bits) dans le répertoire du capteur\n",
    "        Créer un dictionnaire D_SERIE vide pour mémoriser le % nuage du capteur\n",
    "        Pour chaque fichier CLM 8 bits :\n",
    "            Créer dictionnaire CLM  = caractéristiques du fichier CLM\n",
    "            Analyser le nom du fichier : extraire le niveau de correction géom et la date, dans CLM\n",
    "            Lire fichier \"_CLM_R1.tif\"\n",
    "            Extraire CRS du fichier \"_CLM_R1.tif\", dans D_CLM\n",
    "            Convertir CRS polygone P (WGS84 -> CRS Geotiff)\n",
    "            Calculer le % nuages du produit pour le polygone P, dans D_CLM         \n",
    "            Ajouter le dict D_CLM au dictionnaire D_SERIE\n",
    "            [Optionnel] créer une image d'aperçu recadrée sur la zone d'étude\n",
    "        Plotter sur un tableau le % nuages du capteur (-> fichier .png)\n"
   ]
  },
  {
   "cell_type": "markdown",
   "id": "882681ff-16d5-4a2f-9711-282bf5452cf4",
   "metadata": {},
   "source": [
    "### Lire les fichiers d'emprises (KMZ)"
   ]
  },
  {
   "cell_type": "code",
   "execution_count": 1,
   "id": "14930b81-9d80-4d71-a5c2-7ef778a9ec6e",
   "metadata": {},
   "outputs": [
    {
     "data": {
      "text/plain": [
       "0    POLYGON Z ((-52.34420 4.83671 0.00000, -52.343...\n",
       "Name: geometry, dtype: geometry"
      ]
     },
     "execution_count": 1,
     "metadata": {},
     "output_type": "execute_result"
    }
   ],
   "source": [
    "# fonction pour lire l'emprise d'une zone d'étude (.kmz)\n",
    "# on suppose que le fichier ne contient qu'un seul polygone\n",
    "import geopandas as gpd\n",
    "\n",
    "# Activer fiona driver pour KML / KMZ\n",
    "gpd.io.file.fiona.drvsupport.supported_drivers[\"LIBKML\"] = 'r'\n",
    "\n",
    "def lire_kmz(path_kmz):\n",
    "    gdf = gpd.read_file(path_kmz, driver='LIBKML')\n",
    "    return gdf.geometry\n",
    "\n",
    "geom_cayenne = lire_kmz(\"/home/fouzai/Téléchargements/kmz_jpg_Gutemberg/Gutemberg/urbain_area_Cayenne.kmz\")\n",
    "geom_cayenne\n"
   ]
  },
  {
   "cell_type": "markdown",
   "id": "f7a11e78-681a-47df-86b0-f26614eda475",
   "metadata": {},
   "source": [
    "### Extraire une fenêtre correspondant à l'emprise\n",
    "\n",
    "Nous lisons les métadonnées du raster, et extrayons les informations du nom de fichier. "
   ]
  },
  {
   "cell_type": "code",
   "execution_count": 2,
   "id": "edfd66e9-aaf5-4aa6-9db2-874bdf398f06",
   "metadata": {},
   "outputs": [
    {
     "data": {
      "text/plain": [
       "{'driver': 'GTiff',\n",
       " 'dtype': 'uint8',\n",
       " 'nodata': None,\n",
       " 'width': 10980,\n",
       " 'height': 10980,\n",
       " 'count': 1,\n",
       " 'crs': CRS.from_epsg(32622),\n",
       " 'transform': Affine(10.0, 0.0, 300000.0,\n",
       "        0.0, -10.0, 600000.0),\n",
       " 'sensor': 'SENTINEL2A',\n",
       " 'geom_proc_level': 'L2A',\n",
       " 'tuile': 'T22NCL',\n",
       " 'date': '20180810'}"
      ]
     },
     "execution_count": 2,
     "metadata": {},
     "output_type": "execute_result"
    }
   ],
   "source": [
    "# fonction pour lire les propriétés d'une image '_qb.tif'\n",
    "# et calculer le % nuages\n",
    "\n",
    "import numpy as np\n",
    "import rasterio\n",
    "from os.path import join, basename\n",
    "\n",
    "def attr_qb(path_tif):\n",
    "    with rasterio.open(path_tif) as src:\n",
    "        dict_qb = src.meta.copy()\n",
    "    nom_fichier = basename(path_tif)\n",
    "    l_nom = nom_fichier.split('_')\n",
    "    dict_qb.update({\n",
    "        'sensor': l_nom[0],\n",
    "        'geom_proc_level': l_nom[2],\n",
    "        'tuile': l_nom[3],\n",
    "        'date': l_nom[1][0:8]\n",
    "    })\n",
    "    return dict_qb\n",
    "\n",
    "f_test_clm = (\"/home/fouzai/Progysat_tache_urbaine/cayenne/images_sentinel2_maja/S2_images/SENTINEL2A_20180810-140052-462_L2A_T22NCL_D_V1-8/MASKS/SENTINEL2A_20180810-140052-462_L2A_T22NCL_D_V1-8_CLM_R1.tif\")\n",
    "    #mask_bit = np.bitwise_and(b, compare_mask)\n",
    "d_clm = attr_qb(f_test_clm)\n",
    "d_clm"
   ]
  },
  {
   "cell_type": "markdown",
   "id": "be5f0c90-869c-44f9-82e9-6d1080cce600",
   "metadata": {},
   "source": [
    "Nous calculons la position de la fenêtre à extraire dans le raster : celle-ci correspondra à la zone urbaine définie par le fichier KMZ + une zone tampon de 5000 mètres, dans le CRS de l'image Landsat (projection UTM)."
   ]
  },
  {
   "cell_type": "code",
   "execution_count": 3,
   "id": "63ef4529-e17e-4353-9851-490bbe79bb87",
   "metadata": {},
   "outputs": [
    {
     "data": {
      "text/plain": [
       "Window(col_off=4197, row_off=4757, width=2505, height=3225)"
      ]
     },
     "execution_count": 3,
     "metadata": {},
     "output_type": "execute_result"
    }
   ],
   "source": [
    "# reprojeter le polygone en espg 32621\n",
    "geom_utm = geom_cayenne.to_crs(d_clm['crs'])\n",
    "# limites du buffer 5000 m ?\n",
    "bounds_geom_utm = geom_utm.buffer(5000).total_bounds\n",
    "# position et dimension fenetre, arrondi\n",
    "win_geom_utm = rasterio.windows.from_bounds(*bounds_geom_utm, transform=d_clm['transform'])\n",
    "win_geom_utm = win_geom_utm.round_offsets().round_lengths()\n",
    "win_geom_utm"
   ]
  },
  {
   "cell_type": "code",
   "execution_count": 4,
   "id": "4947e2b1-81ba-4b4f-bbf2-e2c9d2e88cf4",
   "metadata": {},
   "outputs": [
    {
     "data": {
      "text/plain": [
       "<AxesSubplot:>"
      ]
     },
     "execution_count": 4,
     "metadata": {},
     "output_type": "execute_result"
    },
    {
     "data": {
      "image/png": "[encoded data removed]",
      "text/plain": [
       "<Figure size 360x360 with 1 Axes>"
      ]
     },
     "metadata": {
      "needs_background": "light"
     },
     "output_type": "display_data"
    }
   ],
   "source": [
    "# extraire donnee fenetre\n",
    "with rasterio.open(f_test_clm) as src:\n",
    "    w = src.read(1, window=win_geom_utm)\n",
    "    win_transform = src.window_transform(win_geom_utm)\n",
    "\n",
    "# aperçu graphique\n",
    "import rasterio.plot\n",
    "import matplotlib.pyplot as plt\n",
    "\n",
    "fig, ax = plt.subplots(figsize=(5,5))\n",
    "rasterio.plot.show(w, transform=win_transform, ax=ax)\n",
    "geom_utm.boundary.plot(ax=ax, color=\"orange\")"
   ]
  },
  {
   "cell_type": "markdown",
   "id": "ced16afe-e808-46ed-ba34-242cc1fe4d28",
   "metadata": {},
   "source": [
    "### Obtenir un masque raster et l'appliquer aux données nuages\n",
    "\n",
    "Nous avons maintenant les données raster issues de la fenêtre ainsi que le contour de la zone urbaine. Pour calculer le % de nuages, la solution la plus efficace est de **rastériser** la zone urbaine, et de l'utiliser comme masque inversé (masquer tous les pixels en dehors de la zone urbaine). La dernière étape sera d'appliquer un masque binaire et calculer les statistiques de la zone non masquée."
   ]
  },
  {
   "cell_type": "code",
   "execution_count": 5,
   "id": "7e5cf0a4-ecd6-4aaa-8864-27d144bdb8ae",
   "metadata": {},
   "outputs": [
    {
     "data": {
      "image/png": "[encoded data removed]",
      "text/plain": [
       "<Figure size 432x288 with 1 Axes>"
      ]
     },
     "metadata": {
      "needs_background": "light"
     },
     "output_type": "display_data"
    },
    {
     "data": {
      "text/plain": [
       "<AxesSubplot:>"
      ]
     },
     "execution_count": 5,
     "metadata": {},
     "output_type": "execute_result"
    }
   ],
   "source": [
    "# rasteriser zone urbaine\n",
    "from rasterio import features\n",
    "import numpy.ma as ma\n",
    "mask_zu = features.rasterize(\n",
    "    geom_utm,\n",
    "    out_shape=w.shape,\n",
    "    fill=1,\n",
    "    transform=win_transform,\n",
    "    all_touched=True,\n",
    "    default_value=0,\n",
    "    dtype=np.uint8\n",
    ")\n",
    "\n",
    "# masquer raster qb\n",
    "mw = ma.masked_array(w, mask=mask_zu)\n",
    "rasterio.plot.show(mw, transform=win_transform)\n"
   ]
  },
  {
   "cell_type": "markdown",
   "id": "f5027292-6d4c-4872-8d8d-512251622801",
   "metadata": {},
   "source": [
    "### Compter les valeurs"
   ]
  },
  {
   "cell_type": "code",
   "execution_count": 6,
   "id": "65a6f028-e940-4ffa-9126-b3b06b3b0b8d",
   "metadata": {
    "tags": []
   },
   "outputs": [],
   "source": [
    "ma_values, values_counts = np.unique(mw, return_counts=True)\n",
    "values = ma_values.compressed()\n",
    "values_counts = values_counts[~ma_values.mask]\n"
   ]
  },
  {
   "cell_type": "code",
   "execution_count": 7,
   "id": "2b87ca36-b43c-4b05-805e-808f358ca5ea",
   "metadata": {},
   "outputs": [
    {
     "data": {
      "text/plain": [
       "array([False,  True, False, False, False,  True])"
      ]
     },
     "execution_count": 7,
     "metadata": {},
     "output_type": "execute_result"
    }
   ],
   "source": [
    "# renvoie indices \n",
    "def apply_binary_mask(values, compare_mask):\n",
    "    \"\"\"Compte le nombre total de valeurs correspondant au masque binaire\"\"\"\n",
    "    values2 = np.bitwise_and(values, compare_mask)\n",
    "    return (values2!=0)\n",
    "\n",
    "test = np.array([0, 3, 8, 18, 24, 25], dtype=np.uint8)\n",
    "apply_binary_mask(test, 0b00000001)"
   ]
  },
  {
   "cell_type": "code",
   "execution_count": 8,
   "id": "6ef7bc66-836a-46e0-b73c-cb3996bc5ac1",
   "metadata": {
    "tags": []
   },
   "outputs": [
    {
     "name": "stdout",
     "output_type": "stream",
     "text": [
      "% pixels nuages et ombres = 310854 / 639796\n"
     ]
    }
   ],
   "source": [
    "is_cloud_shadow = apply_binary_mask(values, 0b00000001)\n",
    "nb_pixels_cloud_shadow = np.sum(values_counts[is_cloud_shadow])\n",
    "nb_pixels_data= np.sum(values_counts)\n",
    "\n",
    "print(f\"% pixels nuages et ombres = {nb_pixels_cloud_shadow} / {nb_pixels_data}\")\n"
   ]
  },
  {
   "cell_type": "markdown",
   "id": "143918e0-cb84-4403-bf13-3f31e0d4c409",
   "metadata": {},
   "source": [
    "### Récap : une fonction pour la surface de nuages\n",
    "\n",
    "Incluons tout ce que nous avons vu dans une fonction qui calcule le % de nuages : calcul et extraction de la fenêtre, rastérisation de la zone urbaine, Le calcul de pixels nuages et ombres. Cette fonction prendra comme paramètres : \n",
    "\n",
    "- le chemin d'accès du raster\n",
    "- la géométrie de la zone urbaine, qui définit le masque\n",
    "- les limites géographiques de la fenêtre de données\n",
    "\n",
    "Elle retournera un tuple avec : (nb de pixels nuages et ombres, nb de pixels total dans la zone analysée)."
   ]
  },
  {
   "cell_type": "code",
   "execution_count": 9,
   "id": "aacf4c1e-2a6e-414c-8aaa-f9cc664c0673",
   "metadata": {},
   "outputs": [
    {
     "data": {
      "text/plain": [
       "{'surf_nuage': 310854, 'surf_total': 639796}"
      ]
     },
     "execution_count": 9,
     "metadata": {},
     "output_type": "execute_result"
    }
   ],
   "source": [
    "# fonction : calcul nb pixel nuages et ombres\n",
    "def calc_p_nuages(path_tif, geom_utm, bounds_geom_utm):\n",
    "    # extraire donnee fenetre\n",
    "    with rasterio.open(path_tif) as src:\n",
    "        src_transform = src.transform\n",
    "        # position et dimension fenetre\n",
    "        win_geom_utm = rasterio.windows.from_bounds(*bounds_geom_utm, src_transform)\n",
    "        win_geom_utm = win_geom_utm.round_offsets().round_lengths()\n",
    "        w = src.read(1, window=win_geom_utm)\n",
    "        win_transform = src.window_transform(win_geom_utm)\n",
    "    # rasterisation\n",
    "    mask_zu = features.rasterize(\n",
    "        geom_utm,\n",
    "        out_shape=w.shape,\n",
    "        fill=1,\n",
    "        transform=win_transform,\n",
    "        all_touched=True,\n",
    "        default_value=0,\n",
    "        dtype=np.uint8\n",
    "    )\n",
    "    # masquer raster qb\n",
    "    mw = ma.masked_array(w, mask=mask_zu)\n",
    "    ma_values, values_counts = np.unique(mw, return_counts=True)\n",
    "    values = ma_values.compressed()\n",
    "    values_counts = values_counts[~ma_values.mask]\n",
    "    is_cloud_shadow = apply_binary_mask(values, 0b00000001)\n",
    "    nb_pixels_cloud_shadow = np.sum(values_counts[is_cloud_shadow])\n",
    "    nb_pixels_data= np.sum(values_counts)\n",
    "    return ({\n",
    "        'surf_nuage': nb_pixels_cloud_shadow, \n",
    "        'surf_total': nb_pixels_data})\n",
    "\n",
    "calc_p_nuages(f_test_clm, geom_utm, bounds_geom_utm)\n"
   ]
  },
  {
   "cell_type": "markdown",
   "id": "ccd4294c-0754-426e-ad1f-a126f6f070fd",
   "metadata": {},
   "source": [
    "### Application à tous les fichiers d'1 répertoire\n",
    "\n",
    "Nous souhaitons extraire le % nuages pour toutes les images de Cayenne. Nous générerons un tableau avec les colonnes suivantes :\n",
    "\n",
    "- identifiant du produit (le nom du fichier sans `_CLM_R1.tif`)\n",
    "- date produit\n",
    "- nb total pixels\n",
    "- nb pixels ombres et nuages\n",
    "- identifiant dataset\n",
    "- nom dataset\n",
    "\n",
    "Exemple avec le dataset Sentinel2 sur Cayenne :\n"
   ]
  },
  {
   "cell_type": "code",
   "execution_count": 10,
   "id": "efae3ca2-ce5b-4e50-9577-a25f4f5c628b",
   "metadata": {},
   "outputs": [
    {
     "name": "stdout",
     "output_type": "stream",
     "text": [
      "Nb images : 70\n"
     ]
    }
   ],
   "source": [
    "from os.path import join, basename\n",
    "import glob \n",
    "import pandas as pd\n",
    "\n",
    "# exemple pour Cayenne\n",
    "# dataset \n",
    "dataset = \"/home/fouzai/Progysat_tache_urbaine/cayenne/images_sentinel2_maja/masques/\"\n",
    "\n",
    "\n",
    "# pour tester : \n",
    "f_test = join(dataset, \"*_CLM_R1.tif\")\n",
    "\n",
    "# liste fichiers\n",
    "liste_fichiers_sentinel2 = glob.glob(f_test)\n",
    "print(f\"Nb images : {len(liste_fichiers_sentinel2)}\")"
   ]
  },
  {
   "cell_type": "code",
   "execution_count": 11,
   "id": "5a8d320f",
   "metadata": {},
   "outputs": [
    {
     "data": {
      "text/plain": [
       "['/home/fouzai/Progysat_tache_urbaine/cayenne/images_sentinel2_maja/masques/SENTINEL2A_20170825-140101-462_L2A_T22NCL_D_V1-7_CLM_R1.tif',\n",
       " '/home/fouzai/Progysat_tache_urbaine/cayenne/images_sentinel2_maja/masques/SENTINEL2B_20180117-140044-457_L2A_T22NCL_D_V1-4_CLM_R1.tif',\n",
       " '/home/fouzai/Progysat_tache_urbaine/cayenne/images_sentinel2_maja/masques/SENTINEL2B_20180726-140049-462_L2A_T22NCL_D_V1-8_CLM_R1.tif',\n",
       " '/home/fouzai/Progysat_tache_urbaine/cayenne/images_sentinel2_maja/masques/SENTINEL2A_20180721-140053-463_L2A_T22NCL_D_V1-8_CLM_R1.tif',\n",
       " '/home/fouzai/Progysat_tache_urbaine/cayenne/images_sentinel2_maja/masques/SENTINEL2A_20190716-140114-204_L2A_T22NCL_C_V2-2_CLM_R1.tif',\n",
       " '/home/fouzai/Progysat_tache_urbaine/cayenne/images_sentinel2_maja/masques/SENTINEL2B_20170830-140046-456_L2A_T22NCL_D_V1-7_CLM_R1.tif',\n",
       " '/home/fouzai/Progysat_tache_urbaine/cayenne/images_sentinel2_maja/masques/SENTINEL2A_20190706-140114-055_L2A_T22NCL_C_V2-2_CLM_R1.tif',\n",
       " '/home/fouzai/Progysat_tache_urbaine/cayenne/images_sentinel2_maja/masques/SENTINEL2B_20180626-140051-458_L2A_T22NCL_D_V1-8_CLM_R1.tif',\n",
       " '/home/fouzai/Progysat_tache_urbaine/cayenne/images_sentinel2_maja/masques/SENTINEL2A_20180711-140053-463_L2A_T22NCL_D_V1-8_CLM_R1.tif',\n",
       " '/home/fouzai/Progysat_tache_urbaine/cayenne/images_sentinel2_maja/masques/SENTINEL2B_20180308-140042-458_L2A_T22NCL_D_V1-5_CLM_R1.tif',\n",
       " '/home/fouzai/Progysat_tache_urbaine/cayenne/images_sentinel2_maja/masques/SENTINEL2B_20180328-140047-457_L2A_T22NCL_D_V1-7_CLM_R1.tif',\n",
       " '/home/fouzai/Progysat_tache_urbaine/cayenne/images_sentinel2_maja/masques/SENTINEL2B_20190701-140117-630_L2A_T22NCL_C_V2-2_CLM_R1.tif',\n",
       " '/home/fouzai/Progysat_tache_urbaine/cayenne/images_sentinel2_maja/masques/SENTINEL2A_20170606-140102-464_L2A_T22NCL_D_V1-4_CLM_R1.tif',\n",
       " '/home/fouzai/Progysat_tache_urbaine/cayenne/images_sentinel2_maja/masques/SENTINEL2A_20170626-140059-456_L2A_T22NCL_D_V1-4_CLM_R1.tif',\n",
       " '/home/fouzai/Progysat_tache_urbaine/cayenne/images_sentinel2_maja/masques/SENTINEL2A_20170726-140053-458_L2A_T22NCL_D_V1-7_CLM_R1.tif',\n",
       " '/home/fouzai/Progysat_tache_urbaine/cayenne/images_sentinel2_maja/masques/SENTINEL2A_20180810-140052-462_L2A_T22NCL_D_V1-8_CLM_R1.tif',\n",
       " '/home/fouzai/Progysat_tache_urbaine/cayenne/images_sentinel2_maja/masques/SENTINEL2A_20190914-140107-854_L2A_T22NCL_C_V2-2_CLM_R1.tif',\n",
       " '/home/fouzai/Progysat_tache_urbaine/cayenne/images_sentinel2_maja/masques/SENTINEL2B_20190830-140112-741_L2A_T22NCL_C_V2-2_CLM_R1.tif',\n",
       " '/home/fouzai/Progysat_tache_urbaine/cayenne/images_sentinel2_maja/masques/SENTINEL2A_20170805-140102-458_L2A_T22NCL_D_V1-7_CLM_R1.tif',\n",
       " '/home/fouzai/Progysat_tache_urbaine/cayenne/images_sentinel2_maja/masques/SENTINEL2B_20190721-140117-619_L2A_T22NCL_C_V2-2_CLM_R1.tif',\n",
       " '/home/fouzai/Progysat_tache_urbaine/cayenne/images_sentinel2_maja/masques/SENTINEL2A_20180611-140051-456_L2A_T22NCL_D_V1-8_CLM_R1.tif',\n",
       " '/home/fouzai/Progysat_tache_urbaine/cayenne/images_sentinel2_maja/masques/SENTINEL2B_20170919-140040-456_L2A_T22NCL_D_V1-7_CLM_R1.tif',\n",
       " '/home/fouzai/Progysat_tache_urbaine/cayenne/images_sentinel2_maja/masques/SENTINEL2B_20170810-140050-459_L2A_T22NCL_D_V1-7_CLM_R1.tif',\n",
       " '/home/fouzai/Progysat_tache_urbaine/cayenne/images_sentinel2_maja/masques/SENTINEL2B_20190810-140115-960_L2A_T22NCL_C_V2-2_CLM_R1.tif',\n",
       " '/home/fouzai/Progysat_tache_urbaine/cayenne/images_sentinel2_maja/masques/SENTINEL2A_20180820-140051-461_L2A_T22NCL_D_V1-8_CLM_R1.tif',\n",
       " '/home/fouzai/Progysat_tache_urbaine/cayenne/images_sentinel2_maja/masques/SENTINEL2A_20180601-140053-455_L2A_T22NCL_D_V1-8_CLM_R1.tif',\n",
       " '/home/fouzai/Progysat_tache_urbaine/cayenne/images_sentinel2_maja/masques/SENTINEL2B_20170929-140045-464_L2A_T22NCL_D_V1-7_CLM_R1.tif',\n",
       " '/home/fouzai/Progysat_tache_urbaine/cayenne/images_sentinel2_maja/masques/SENTINEL2A_20190805-140113-299_L2A_T22NCL_C_V2-2_CLM_R1.tif',\n",
       " '/home/fouzai/Progysat_tache_urbaine/cayenne/images_sentinel2_maja/masques/SENTINEL2B_20190909-140110-447_L2A_T22NCL_C_V2-2_CLM_R1.tif',\n",
       " '/home/fouzai/Progysat_tache_urbaine/cayenne/images_sentinel2_maja/masques/SENTINEL2B_20170731-140100-457_L2A_T22NCL_D_V1-7_CLM_R1.tif',\n",
       " '/home/fouzai/Progysat_tache_urbaine/cayenne/images_sentinel2_maja/masques/SENTINEL2B_20180914-140043-462_L2A_T22NCL_D_V1-9_CLM_R1.tif',\n",
       " '/home/fouzai/Progysat_tache_urbaine/cayenne/images_sentinel2_maja/masques/SENTINEL2A_20180701-140053-463_L2A_T22NCL_D_V1-8_CLM_R1.tif',\n",
       " '/home/fouzai/Progysat_tache_urbaine/cayenne/images_sentinel2_maja/masques/SENTINEL2A_20190726-140113-935_L2A_T22NCL_C_V2-2_CLM_R1.tif',\n",
       " '/home/fouzai/Progysat_tache_urbaine/cayenne/images_sentinel2_maja/masques/SENTINEL2A_20190904-140108-826_L2A_T22NCL_C_V2-2_CLM_R1.tif',\n",
       " '/home/fouzai/Progysat_tache_urbaine/cayenne/images_sentinel2_maja/masques/SENTINEL2A_20180112-140053-457_L2A_T22NCL_D_V1-4_CLM_R1.tif',\n",
       " '/home/fouzai/Progysat_tache_urbaine/cayenne/images_sentinel2_maja/masques/SENTINEL2B_20180127-140045-460_L2A_T22NCL_D_V1-4_CLM_R1.tif',\n",
       " '/home/fouzai/Progysat_tache_urbaine/cayenne/images_sentinel2_maja/masques/SENTINEL2B_20180924-140045-463_L2A_T22NCL_D_V1-9_CLM_R1.tif',\n",
       " '/home/fouzai/Progysat_tache_urbaine/cayenne/images_sentinel2_maja/masques/SENTINEL2B_20190820-140114-561_L2A_T22NCL_C_V2-2_CLM_R1.tif',\n",
       " '/home/fouzai/Progysat_tache_urbaine/cayenne/images_sentinel2_maja/masques/SENTINEL2B_20190711-140117-819_L2A_T22NCL_C_V2-2_CLM_R1.tif',\n",
       " '/home/fouzai/Progysat_tache_urbaine/cayenne/images_sentinel2_maja/masques/SENTINEL2A_20190924-140109-711_L2A_T22NCL_C_V2-2_CLM_R1.tif',\n",
       " '/home/fouzai/Progysat_tache_urbaine/cayenne/images_sentinel2_maja/masques/SENTINEL2B_20170711-140101-458_L2A_T22NCL_D_V1-7_CLM_R1.tif',\n",
       " '/home/fouzai/Progysat_tache_urbaine/cayenne/images_sentinel2_maja/masques/SENTINEL2A_20180122-140046-464_L2A_T22NCL_D_V1-4_CLM_R1.tif',\n",
       " '/home/fouzai/Progysat_tache_urbaine/cayenne/images_sentinel2_maja/masques/SENTINEL2A_20180929-140048-458_L2A_T22NCL_D_V1-9_CLM_R1.tif',\n",
       " '/home/fouzai/Progysat_tache_urbaine/cayenne/images_sentinel2_maja/masques/SENTINEL2B_20180706-140051-462_L2A_T22NCL_D_V1-8_CLM_R1.tif',\n",
       " '/home/fouzai/Progysat_tache_urbaine/cayenne/images_sentinel2_maja/masques/SENTINEL2A_20190815-140112-219_L2A_T22NCL_C_V2-2_CLM_R1.tif',\n",
       " '/home/fouzai/Progysat_tache_urbaine/cayenne/images_sentinel2_maja/masques/SENTINEL2B_20180107-140046-462_L2A_T22NCL_D_V1-4_CLM_R1.tif',\n",
       " '/home/fouzai/Progysat_tache_urbaine/cayenne/images_sentinel2_maja/masques/SENTINEL2A_20180313-140048-462_L2A_T22NCL_D_V1-6_CLM_R1.tif',\n",
       " '/home/fouzai/Progysat_tache_urbaine/cayenne/images_sentinel2_maja/masques/SENTINEL2B_20170909-140052-461_L2A_T22NCL_D_V1-7_CLM_R1.tif',\n",
       " '/home/fouzai/Progysat_tache_urbaine/cayenne/images_sentinel2_maja/masques/SENTINEL2A_20170815-140053-457_L2A_T22NCL_D_V1-7_CLM_R1.tif',\n",
       " '/home/fouzai/Progysat_tache_urbaine/cayenne/images_sentinel2_maja/masques/SENTINEL2A_20190825-140110-715_L2A_T22NCL_C_V2-2_CLM_R1.tif',\n",
       " '/home/fouzai/Progysat_tache_urbaine/cayenne/images_sentinel2_maja/masques/SENTINEL2B_20190929-140109-379_L2A_T22NCL_C_V2-2_CLM_R1.tif',\n",
       " '/home/fouzai/Progysat_tache_urbaine/cayenne/images_sentinel2_maja/masques/SENTINEL2B_20190731-140117-003_L2A_T22NCL_C_V2-2_CLM_R1.tif',\n",
       " '/home/fouzai/Progysat_tache_urbaine/cayenne/images_sentinel2_maja/masques/SENTINEL2B_20180206-140045-459_L2A_T22NCL_D_V1-4_CLM_R1.tif',\n",
       " '/home/fouzai/Progysat_tache_urbaine/cayenne/images_sentinel2_maja/masques/SENTINEL2B_20180904-140043-460_L2A_T22NCL_D_V1-9_CLM_R1.tif',\n",
       " '/home/fouzai/Progysat_tache_urbaine/cayenne/images_sentinel2_maja/masques/SENTINEL2A_20180323-140050-458_L2A_T22NCL_D_V1-7_CLM_R1.tif',\n",
       " '/home/fouzai/Progysat_tache_urbaine/cayenne/images_sentinel2_maja/masques/SENTINEL2B_20170701-140052-460_L2A_T22NCL_D_V1-7_CLM_R1.tif',\n",
       " '/home/fouzai/Progysat_tache_urbaine/cayenne/images_sentinel2_maja/masques/SENTINEL2A_20180731-140053-455_L2A_T22NCL_D_V1-8_CLM_R1.tif',\n",
       " '/home/fouzai/Progysat_tache_urbaine/cayenne/images_sentinel2_maja/masques/SENTINEL2B_20180815-140046-459_L2A_T22NCL_D_V1-8_CLM_R1.tif',\n",
       " '/home/fouzai/Progysat_tache_urbaine/cayenne/images_sentinel2_maja/masques/SENTINEL2A_20170924-140106-498_L2A_T22NCL_D_V1-7_CLM_R1.tif',\n",
       " '/home/fouzai/Progysat_tache_urbaine/cayenne/images_sentinel2_maja/masques/SENTINEL2A_20180102-140045-460_L2A_T22NCL_D_V1-4_CLM_R1.tif',\n",
       " '/home/fouzai/Progysat_tache_urbaine/cayenne/images_sentinel2_maja/masques/SENTINEL2B_20190919-140108-144_L2A_T22NCL_C_V2-2_CLM_R1.tif',\n",
       " '/home/fouzai/Progysat_tache_urbaine/cayenne/images_sentinel2_maja/masques/SENTINEL2A_20190626-140113-450_L2A_T22NCL_C_V2-2_CLM_R1.tif',\n",
       " '/home/fouzai/Progysat_tache_urbaine/cayenne/images_sentinel2_maja/masques/SENTINEL2A_20180830-140050-458_L2A_T22NCL_D_V1-8_CLM_R1.tif',\n",
       " '/home/fouzai/Progysat_tache_urbaine/cayenne/images_sentinel2_maja/masques/SENTINEL2A_20170706-140051-462_L2A_T22NCL_D_V1-7_CLM_R1.tif',\n",
       " '/home/fouzai/Progysat_tache_urbaine/cayenne/images_sentinel2_maja/masques/SENTINEL2A_20180909-140049-464_L2A_T22NCL_D_V1-9_CLM_R1.tif',\n",
       " '/home/fouzai/Progysat_tache_urbaine/cayenne/images_sentinel2_maja/masques/SENTINEL2A_20180919-140047-455_L2A_T22NCL_D_V1-9_CLM_R1.tif',\n",
       " '/home/fouzai/Progysat_tache_urbaine/cayenne/images_sentinel2_maja/masques/SENTINEL2B_20180825-140044-461_L2A_T22NCL_D_V1-8_CLM_R1.tif',\n",
       " '/home/fouzai/Progysat_tache_urbaine/cayenne/images_sentinel2_maja/masques/SENTINEL2A_20170904-140051-456_L2A_T22NCL_D_V1-7_CLM_R1.tif',\n",
       " '/home/fouzai/Progysat_tache_urbaine/cayenne/images_sentinel2_maja/masques/SENTINEL2B_20170721-140052-456_L2A_T22NCL_D_V1-7_CLM_R1.tif',\n",
       " '/home/fouzai/Progysat_tache_urbaine/cayenne/images_sentinel2_maja/masques/SENTINEL2A_20170616-140052-457_L2A_T22NCL_D_V1-4_CLM_R1.tif']"
      ]
     },
     "execution_count": 11,
     "metadata": {},
     "output_type": "execute_result"
    }
   ],
   "source": [
    "liste_fichiers_sentinel2"
   ]
  },
  {
   "cell_type": "code",
   "execution_count": 12,
   "id": "2184f858-fa49-4d2d-9568-14f0d729383e",
   "metadata": {},
   "outputs": [
    {
     "data": {
      "text/plain": [
       "{'dateprod': '2017-08-25', 'yearprod': '2017', 'monthprod': '08'}"
      ]
     },
     "execution_count": 12,
     "metadata": {},
     "output_type": "execute_result"
    }
   ],
   "source": [
    "def extraire_date(prodid):\n",
    "    date1 = prodid.split('_')[1]\n",
    "    if len(date1) < 8:\n",
    "        return None\n",
    "    return({\n",
    "        'dateprod': date1[0:4] + '-' + date1[4:6] + '-' + date1[6:8], \n",
    "        'yearprod': date1[0:4], \n",
    "        'monthprod': date1[4:6]})\n",
    "\n",
    "idprod0 = basename(liste_fichiers_sentinel2[0])\n",
    "extraire_date(idprod0)"
   ]
  },
  {
   "cell_type": "code",
   "execution_count": 13,
   "id": "8b5d7b9a-7323-4333-a1af-5443209c5619",
   "metadata": {},
   "outputs": [
    {
     "name": "stdout",
     "output_type": "stream",
     "text": [
      "CPU times: user 14.7 s, sys: 626 ms, total: 15.3 s\n",
      "Wall time: 16 s\n"
     ]
    }
   ],
   "source": [
    "%%time\n",
    "# exemple : nom de produit (suppr 7 derniers car)\n",
    "idprod = [basename(x)[:-7] for x in liste_fichiers_sentinel2]\n",
    "dateprod = [extraire_date(basename(x)) for x in liste_fichiers_sentinel2]\n",
    "liste_analyse = [calc_p_nuages(x, geom_utm, bounds_geom_utm) for x in liste_fichiers_sentinel2]"
   ]
  },
  {
   "cell_type": "code",
   "execution_count": 14,
   "id": "a744f41d-97c3-4d16-a317-32bd74a77c70",
   "metadata": {},
   "outputs": [
    {
     "data": {
      "text/html": [
       "<div>\n",
       "<style scoped>\n",
       "    .dataframe tbody tr th:only-of-type {\n",
       "        vertical-align: middle;\n",
       "    }\n",
       "\n",
       "    .dataframe tbody tr th {\n",
       "        vertical-align: top;\n",
       "    }\n",
       "\n",
       "    .dataframe thead th {\n",
       "        text-align: right;\n",
       "    }\n",
       "</style>\n",
       "<table border=\"1\" class=\"dataframe\">\n",
       "  <thead>\n",
       "    <tr style=\"text-align: right;\">\n",
       "      <th></th>\n",
       "      <th>idprod</th>\n",
       "      <th>dateprod</th>\n",
       "      <th>yearprod</th>\n",
       "      <th>monthprod</th>\n",
       "      <th>surf_nuage</th>\n",
       "      <th>surf_total</th>\n",
       "      <th>p_nuage</th>\n",
       "    </tr>\n",
       "  </thead>\n",
       "  <tbody>\n",
       "    <tr>\n",
       "      <th>0</th>\n",
       "      <td>SENTINEL2A_20170825-140101-462_L2A_T22NCL_D_V1...</td>\n",
       "      <td>2017-08-25</td>\n",
       "      <td>2017</td>\n",
       "      <td>08</td>\n",
       "      <td>353927</td>\n",
       "      <td>639796</td>\n",
       "      <td>55.318727</td>\n",
       "    </tr>\n",
       "    <tr>\n",
       "      <th>1</th>\n",
       "      <td>SENTINEL2B_20180117-140044-457_L2A_T22NCL_D_V1...</td>\n",
       "      <td>2018-01-17</td>\n",
       "      <td>2018</td>\n",
       "      <td>01</td>\n",
       "      <td>465154</td>\n",
       "      <td>639796</td>\n",
       "      <td>72.703487</td>\n",
       "    </tr>\n",
       "    <tr>\n",
       "      <th>2</th>\n",
       "      <td>SENTINEL2B_20180726-140049-462_L2A_T22NCL_D_V1...</td>\n",
       "      <td>2018-07-26</td>\n",
       "      <td>2018</td>\n",
       "      <td>07</td>\n",
       "      <td>539645</td>\n",
       "      <td>639796</td>\n",
       "      <td>84.346417</td>\n",
       "    </tr>\n",
       "    <tr>\n",
       "      <th>3</th>\n",
       "      <td>SENTINEL2A_20180721-140053-463_L2A_T22NCL_D_V1...</td>\n",
       "      <td>2018-07-21</td>\n",
       "      <td>2018</td>\n",
       "      <td>07</td>\n",
       "      <td>636032</td>\n",
       "      <td>639796</td>\n",
       "      <td>99.411687</td>\n",
       "    </tr>\n",
       "    <tr>\n",
       "      <th>4</th>\n",
       "      <td>SENTINEL2A_20190716-140114-204_L2A_T22NCL_C_V2...</td>\n",
       "      <td>2019-07-16</td>\n",
       "      <td>2019</td>\n",
       "      <td>07</td>\n",
       "      <td>639682</td>\n",
       "      <td>639796</td>\n",
       "      <td>99.982182</td>\n",
       "    </tr>\n",
       "    <tr>\n",
       "      <th>...</th>\n",
       "      <td>...</td>\n",
       "      <td>...</td>\n",
       "      <td>...</td>\n",
       "      <td>...</td>\n",
       "      <td>...</td>\n",
       "      <td>...</td>\n",
       "      <td>...</td>\n",
       "    </tr>\n",
       "    <tr>\n",
       "      <th>65</th>\n",
       "      <td>SENTINEL2A_20180919-140047-455_L2A_T22NCL_D_V1...</td>\n",
       "      <td>2018-09-19</td>\n",
       "      <td>2018</td>\n",
       "      <td>09</td>\n",
       "      <td>293251</td>\n",
       "      <td>639796</td>\n",
       "      <td>45.835079</td>\n",
       "    </tr>\n",
       "    <tr>\n",
       "      <th>66</th>\n",
       "      <td>SENTINEL2B_20180825-140044-461_L2A_T22NCL_D_V1...</td>\n",
       "      <td>2018-08-25</td>\n",
       "      <td>2018</td>\n",
       "      <td>08</td>\n",
       "      <td>271973</td>\n",
       "      <td>639796</td>\n",
       "      <td>42.509331</td>\n",
       "    </tr>\n",
       "    <tr>\n",
       "      <th>67</th>\n",
       "      <td>SENTINEL2A_20170904-140051-456_L2A_T22NCL_D_V1...</td>\n",
       "      <td>2017-09-04</td>\n",
       "      <td>2017</td>\n",
       "      <td>09</td>\n",
       "      <td>526004</td>\n",
       "      <td>639796</td>\n",
       "      <td>82.214331</td>\n",
       "    </tr>\n",
       "    <tr>\n",
       "      <th>68</th>\n",
       "      <td>SENTINEL2B_20170721-140052-456_L2A_T22NCL_D_V1...</td>\n",
       "      <td>2017-07-21</td>\n",
       "      <td>2017</td>\n",
       "      <td>07</td>\n",
       "      <td>517389</td>\n",
       "      <td>639796</td>\n",
       "      <td>80.867808</td>\n",
       "    </tr>\n",
       "    <tr>\n",
       "      <th>69</th>\n",
       "      <td>SENTINEL2A_20170616-140052-457_L2A_T22NCL_D_V1...</td>\n",
       "      <td>2017-06-16</td>\n",
       "      <td>2017</td>\n",
       "      <td>06</td>\n",
       "      <td>38588</td>\n",
       "      <td>639796</td>\n",
       "      <td>6.031297</td>\n",
       "    </tr>\n",
       "  </tbody>\n",
       "</table>\n",
       "<p>70 rows × 7 columns</p>\n",
       "</div>"
      ],
      "text/plain": [
       "                                               idprod    dateprod yearprod  \\\n",
       "0   SENTINEL2A_20170825-140101-462_L2A_T22NCL_D_V1...  2017-08-25     2017   \n",
       "1   SENTINEL2B_20180117-140044-457_L2A_T22NCL_D_V1...  2018-01-17     2018   \n",
       "2   SENTINEL2B_20180726-140049-462_L2A_T22NCL_D_V1...  2018-07-26     2018   \n",
       "3   SENTINEL2A_20180721-140053-463_L2A_T22NCL_D_V1...  2018-07-21     2018   \n",
       "4   SENTINEL2A_20190716-140114-204_L2A_T22NCL_C_V2...  2019-07-16     2019   \n",
       "..                                                ...         ...      ...   \n",
       "65  SENTINEL2A_20180919-140047-455_L2A_T22NCL_D_V1...  2018-09-19     2018   \n",
       "66  SENTINEL2B_20180825-140044-461_L2A_T22NCL_D_V1...  2018-08-25     2018   \n",
       "67  SENTINEL2A_20170904-140051-456_L2A_T22NCL_D_V1...  2017-09-04     2017   \n",
       "68  SENTINEL2B_20170721-140052-456_L2A_T22NCL_D_V1...  2017-07-21     2017   \n",
       "69  SENTINEL2A_20170616-140052-457_L2A_T22NCL_D_V1...  2017-06-16     2017   \n",
       "\n",
       "   monthprod  surf_nuage  surf_total    p_nuage  \n",
       "0         08      353927      639796  55.318727  \n",
       "1         01      465154      639796  72.703487  \n",
       "2         07      539645      639796  84.346417  \n",
       "3         07      636032      639796  99.411687  \n",
       "4         07      639682      639796  99.982182  \n",
       "..       ...         ...         ...        ...  \n",
       "65        09      293251      639796  45.835079  \n",
       "66        08      271973      639796  42.509331  \n",
       "67        09      526004      639796  82.214331  \n",
       "68        07      517389      639796  80.867808  \n",
       "69        06       38588      639796   6.031297  \n",
       "\n",
       "[70 rows x 7 columns]"
      ]
     },
     "execution_count": 14,
     "metadata": {},
     "output_type": "execute_result"
    }
   ],
   "source": [
    "df_idprod = pd.DataFrame({'idprod': idprod})\n",
    "df_date = pd.DataFrame(dateprod)\n",
    "df_analyse = pd.DataFrame(liste_analyse)\n",
    "\n",
    "df = pd.concat([df_idprod, df_date, df_analyse], axis=1)\n",
    "df['p_nuage'] = 100. * df['surf_nuage'] / df['surf_total'] \n",
    "df"
   ]
  },
  {
   "cell_type": "markdown",
   "id": "1033f342-0732-45d9-b51e-da1335148dbe",
   "metadata": {},
   "source": [
    "### Enregistrer au format excel"
   ]
  },
  {
   "cell_type": "code",
   "execution_count": 15,
   "id": "43caad03-016f-442b-b33d-961ab4edb093",
   "metadata": {},
   "outputs": [],
   "source": [
    "df.to_excel('/home/fouzai/Progysat_tache_urbaine/cayenne/images_sentinel2_maja/pourcentage_nuage_cayenne.xlsx')"
   ]
  },
  {
   "cell_type": "markdown",
   "id": "c8de2c6b-3f5c-4b69-b1ec-76ede11448bf",
   "metadata": {},
   "source": [
    "### Représenter le % de nuages sur un graphique\n",
    "\n",
    "Pour visualiser les mois et années les moins nuageux et identifier rapidement les données exploitables, nous générerons un graphique de type _heatmap_ grâce au package `seaborn`.\n",
    "\n",
    "Nous pouvons nous inspirer du code python suivant : <https://towardsdatascience.com/create-githubs-style-contributions-plot-for-your-time-series-data-79df84ec93da>\n",
    "\n",
    "La 1ère étape est de calculer pour chaque mois de chaque année le **nombre total d'images disponibles**, ainsi que la **valeur minimale du % de nuages**.\n",
    "\n",
    "Remarque : on \"réindexe\" les colonnes avec une liste d'années (exemple : de 1984 à 2011) pour être sûr que les années sans images apparaîtront quand même dans le graphique final.\n"
   ]
  },
  {
   "cell_type": "code",
   "execution_count": 16,
   "id": "6ce341e5-9acd-401d-9412-b3f35f99e43b",
   "metadata": {},
   "outputs": [],
   "source": [
    "# chercher pour chaque mois et chaque année le % min de nuage \n",
    "annees_l8 = [str(x) for x in range(2017, 2020)]\n",
    "def agg_value(data_sensor, aggname, index_an, fill_value=None,\n",
    "                  col_id='idprod', col_an='year', col_mois='month', col_pnuage = 'p_nuage'):    \n",
    "    pivoted_min = pd.pivot_table(\n",
    "        data_sensor, values=col_pnuage, index=col_mois , columns=col_an, \n",
    "        aggfunc=aggname, fill_value=fill_value)\n",
    "    pivoted_min = pivoted_min.reindex(columns=annees_l8)\n",
    "    return pivoted_min\n",
    "\n",
    "\n",
    "kwds = {\n",
    "    'col_id': 'idprod', 'col_an': 'yearprod', \n",
    "    'col_mois': 'monthprod', 'col_pnuage': 'p_nuage'\n",
    "}\n",
    "\n"
   ]
  },
  {
   "cell_type": "code",
   "execution_count": 17,
   "id": "f2cdb8b5",
   "metadata": {},
   "outputs": [
    {
     "data": {
      "text/html": [
       "<div>\n",
       "<style scoped>\n",
       "    .dataframe tbody tr th:only-of-type {\n",
       "        vertical-align: middle;\n",
       "    }\n",
       "\n",
       "    .dataframe tbody tr th {\n",
       "        vertical-align: top;\n",
       "    }\n",
       "\n",
       "    .dataframe thead th {\n",
       "        text-align: right;\n",
       "    }\n",
       "</style>\n",
       "<table border=\"1\" class=\"dataframe\">\n",
       "  <thead>\n",
       "    <tr style=\"text-align: right;\">\n",
       "      <th>yearprod</th>\n",
       "      <th>2017</th>\n",
       "      <th>2018</th>\n",
       "      <th>2019</th>\n",
       "    </tr>\n",
       "    <tr>\n",
       "      <th>monthprod</th>\n",
       "      <th></th>\n",
       "      <th></th>\n",
       "      <th></th>\n",
       "    </tr>\n",
       "  </thead>\n",
       "  <tbody>\n",
       "    <tr>\n",
       "      <th>01</th>\n",
       "      <td>NaN</td>\n",
       "      <td>52.949847</td>\n",
       "      <td>NaN</td>\n",
       "    </tr>\n",
       "    <tr>\n",
       "      <th>02</th>\n",
       "      <td>NaN</td>\n",
       "      <td>0.675528</td>\n",
       "      <td>NaN</td>\n",
       "    </tr>\n",
       "    <tr>\n",
       "      <th>03</th>\n",
       "      <td>NaN</td>\n",
       "      <td>29.799186</td>\n",
       "      <td>NaN</td>\n",
       "    </tr>\n",
       "    <tr>\n",
       "      <th>06</th>\n",
       "      <td>6.031297</td>\n",
       "      <td>69.761455</td>\n",
       "      <td>37.425836</td>\n",
       "    </tr>\n",
       "    <tr>\n",
       "      <th>07</th>\n",
       "      <td>40.149985</td>\n",
       "      <td>28.105521</td>\n",
       "      <td>28.242909</td>\n",
       "    </tr>\n",
       "    <tr>\n",
       "      <th>08</th>\n",
       "      <td>55.318727</td>\n",
       "      <td>32.777635</td>\n",
       "      <td>32.645406</td>\n",
       "    </tr>\n",
       "    <tr>\n",
       "      <th>09</th>\n",
       "      <td>0.000000</td>\n",
       "      <td>13.019150</td>\n",
       "      <td>23.222246</td>\n",
       "    </tr>\n",
       "  </tbody>\n",
       "</table>\n",
       "</div>"
      ],
      "text/plain": [
       "yearprod        2017       2018       2019\n",
       "monthprod                                 \n",
       "01               NaN  52.949847        NaN\n",
       "02               NaN   0.675528        NaN\n",
       "03               NaN  29.799186        NaN\n",
       "06          6.031297  69.761455  37.425836\n",
       "07         40.149985  28.105521  28.242909\n",
       "08         55.318727  32.777635  32.645406\n",
       "09          0.000000  13.019150  23.222246"
      ]
     },
     "execution_count": 17,
     "metadata": {},
     "output_type": "execute_result"
    }
   ],
   "source": [
    "df_min_nuages = agg_value(df, 'min', index_an=annees_l8, **kwds)\n",
    "df_min_nuages"
   ]
  },
  {
   "cell_type": "code",
   "execution_count": 18,
   "id": "7731e00d-30df-4b07-bb34-fb3028172058",
   "metadata": {},
   "outputs": [
    {
     "data": {
      "text/html": [
       "<div>\n",
       "<style scoped>\n",
       "    .dataframe tbody tr th:only-of-type {\n",
       "        vertical-align: middle;\n",
       "    }\n",
       "\n",
       "    .dataframe tbody tr th {\n",
       "        vertical-align: top;\n",
       "    }\n",
       "\n",
       "    .dataframe thead th {\n",
       "        text-align: right;\n",
       "    }\n",
       "</style>\n",
       "<table border=\"1\" class=\"dataframe\">\n",
       "  <thead>\n",
       "    <tr style=\"text-align: right;\">\n",
       "      <th>yearprod</th>\n",
       "      <th>2017</th>\n",
       "      <th>2018</th>\n",
       "      <th>2019</th>\n",
       "    </tr>\n",
       "    <tr>\n",
       "      <th>monthprod</th>\n",
       "      <th></th>\n",
       "      <th></th>\n",
       "      <th></th>\n",
       "    </tr>\n",
       "  </thead>\n",
       "  <tbody>\n",
       "    <tr>\n",
       "      <th>01</th>\n",
       "      <td>0</td>\n",
       "      <td>6</td>\n",
       "      <td>0</td>\n",
       "    </tr>\n",
       "    <tr>\n",
       "      <th>02</th>\n",
       "      <td>0</td>\n",
       "      <td>1</td>\n",
       "      <td>0</td>\n",
       "    </tr>\n",
       "    <tr>\n",
       "      <th>03</th>\n",
       "      <td>0</td>\n",
       "      <td>4</td>\n",
       "      <td>0</td>\n",
       "    </tr>\n",
       "    <tr>\n",
       "      <th>06</th>\n",
       "      <td>3</td>\n",
       "      <td>3</td>\n",
       "      <td>1</td>\n",
       "    </tr>\n",
       "    <tr>\n",
       "      <th>07</th>\n",
       "      <td>6</td>\n",
       "      <td>6</td>\n",
       "      <td>7</td>\n",
       "    </tr>\n",
       "    <tr>\n",
       "      <th>08</th>\n",
       "      <td>5</td>\n",
       "      <td>5</td>\n",
       "      <td>6</td>\n",
       "    </tr>\n",
       "    <tr>\n",
       "      <th>09</th>\n",
       "      <td>5</td>\n",
       "      <td>6</td>\n",
       "      <td>6</td>\n",
       "    </tr>\n",
       "  </tbody>\n",
       "</table>\n",
       "</div>"
      ],
      "text/plain": [
       "yearprod   2017  2018  2019\n",
       "monthprod                  \n",
       "01            0     6     0\n",
       "02            0     1     0\n",
       "03            0     4     0\n",
       "06            3     3     1\n",
       "07            6     6     7\n",
       "08            5     5     6\n",
       "09            5     6     6"
      ]
     },
     "execution_count": 18,
     "metadata": {},
     "output_type": "execute_result"
    }
   ],
   "source": [
    "df_count_img = agg_value(df, 'count', index_an=annees_l8, fill_value=0, **kwds)\n",
    "df_count_img"
   ]
  },
  {
   "cell_type": "code",
   "execution_count": 19,
   "id": "6df80411-61aa-40d8-91c9-40c4df010302",
   "metadata": {},
   "outputs": [],
   "source": [
    "import pandas as pd\n",
    "import seaborn as sns\n",
    "import matplotlib.pyplot as plt\n",
    "\n",
    "def timeline_graph(df_min, df_count, titre, fichier_png,\n",
    "                coul_graph='PiYG_r', size=(12,5)):\n",
    "    \"\"\"Crée un graphique de type heatmap à partir des dates d'image sat\"\"\"\n",
    "\n",
    "    # dessiner heatmap en vert (ou autre couleur)\n",
    "    colors_fig = sns.color_palette(palette=coul_graph, n_colors=10)\n",
    "    plt.figure(figsize = size)\n",
    "    plt.title(titre_graph)\n",
    "    plt.tick_params(length=0)\n",
    "    g = sns.heatmap(\n",
    "        df_min, \n",
    "        vmin=0, vmax=100, cmap=colors_fig, annot=df_count,\n",
    "        linewidths=5, linecolor='white', square=True)\n",
    "    # Nan en gris clair\n",
    "    g.set_facecolor((0.9, 0.9, 0.9))\n",
    "    plt.savefig(fichier_png)\n"
   ]
  },
  {
   "cell_type": "code",
   "execution_count": 20,
   "id": "32e83be8-31a4-4322-8b50-a6f455a16ea1",
   "metadata": {},
   "outputs": [
    {
     "data": {
      "image/png": "[encoded data removed]",
      "text/plain": [
       "<Figure size 864x360 with 2 Axes>"
      ]
     },
     "metadata": {
      "needs_background": "light"
     },
     "output_type": "display_data"
    }
   ],
   "source": [
    "titre_graph = ('Cayenne --- '\n",
    "               'Sentinel 2 L2A --- P. min de nuages')\n",
    "timeline_graph(\n",
    "    df_min_nuages, df_count_img, titre_graph,\n",
    "    fichier_png = 'exemple_Cayenne.png',\n",
    "    coul_graph='PiYG_r', size=(12,5))\n"
   ]
  },
  {
   "cell_type": "markdown",
   "id": "378a86c3",
   "metadata": {},
   "source": [
    "### Ce notebook a été créé par Cyril Bernard : cyril.bernard@ird.fr "
   ]
  },
  {
   "cell_type": "code",
   "execution_count": null,
   "id": "73ebdbca",
   "metadata": {},
   "outputs": [],
   "source": []
  }
 ],
 "metadata": {
  "kernelspec": {
   "display_name": "Python 3",
   "language": "python",
   "name": "python3"
  },
  "language_info": {
   "codemirror_mode": {
    "name": "ipython",
    "version": 3
   },
   "file_extension": ".py",
   "mimetype": "text/x-python",
   "name": "python",
   "nbconvert_exporter": "python",
   "pygments_lexer": "ipython3",
   "version": "3.6.11"
  }
 },
 "nbformat": 4,
 "nbformat_minor": 5
}
