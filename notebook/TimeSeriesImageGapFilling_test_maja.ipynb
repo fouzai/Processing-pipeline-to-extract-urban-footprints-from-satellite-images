{
 "cells": [
  {
   "cell_type": "code",
   "execution_count": 13,
   "id": "2fa26856",
   "metadata": {},
   "outputs": [],
   "source": [
    "import os\n",
    "import datetime\n"
   ]
  },
  {
   "cell_type": "markdown",
   "id": "36d65e40",
   "metadata": {},
   "source": [
    "# Initialiser les chemins d'accès:\n",
    "    Mon répertoire /home/fouzai/Bureau/maja_sentinel2/21NZG/ contient plusieurs dossiers :\n",
    "    Chaque dossier contient les images Sentinel 2 ainsi que les masques de nuage. "
   ]
  },
  {
   "cell_type": "code",
   "execution_count": 18,
   "id": "72ae9d03",
   "metadata": {},
   "outputs": [],
   "source": [
    "files = os.listdir('/home/fouzai/Bureau/maja_sentinel2/21NZG/')\n",
    "files1 = os.listdir('/home/fouzai/Bureau/maja_sentinel2/21NZG/')\n",
    "files2 = os.listdir('/home/fouzai/Bureau/maja_sentinel2/21NZG/')\n",
    "\n",
    "path='/home/fouzai/Bureau/maja_sentinel2/21NZG'"
   ]
  },
  {
   "cell_type": "code",
   "execution_count": 19,
   "id": "762ffb2c",
   "metadata": {},
   "outputs": [],
   "source": [
    "from os import listdir\n",
    "from os.path import join\n"
   ]
  },
  {
   "cell_type": "markdown",
   "id": "9c730876",
   "metadata": {},
   "source": [
    "On crée un numpy array dans lequel on spécifie tout les chemins d'accès pour la bande B2"
   ]
  },
  {
   "cell_type": "code",
   "execution_count": 20,
   "id": "69aa45fe",
   "metadata": {},
   "outputs": [],
   "source": [
    "for i in range(len(files)) :\n",
    "    tif_files = [f for f in listdir(join(path, files[i])) if f.endswith(\"_FRE_B2.tif\")]\n",
    "    k=len(str(tif_files))\n",
    "    \n",
    "    files[i]=path+'/'+files[i]+'/'+str(tif_files)[2:(k-2)]"
   ]
  },
  {
   "cell_type": "markdown",
   "id": "0b357031",
   "metadata": {},
   "source": [
    "Voici le path pour les 3 premières images, on selectionne toujours la bande B2."
   ]
  },
  {
   "cell_type": "code",
   "execution_count": 22,
   "id": "7f2525ab",
   "metadata": {},
   "outputs": [
    {
     "name": "stdout",
     "output_type": "stream",
     "text": [
      "['/home/fouzai/Bureau/maja_sentinel2/21NZG/SENTINEL2A_20200911-141100-719_L2A_T21NZG_C_V1-0/SENTINEL2A_20200911-141100-719_L2A_T21NZG_C_V1-0_FRE_B2.tif', '/home/fouzai/Bureau/maja_sentinel2/21NZG/SENTINEL2A_20201021-141102-014_L2A_T21NZG_C_V1-0/SENTINEL2A_20201021-141102-014_L2A_T21NZG_C_V1-0_FRE_B2.tif']\n"
     ]
    }
   ],
   "source": [
    "print(files[0 : 2])"
   ]
  },
  {
   "cell_type": "markdown",
   "id": "b26f29df",
   "metadata": {},
   "source": []
  },
  {
   "cell_type": "code",
   "execution_count": 7,
   "id": "d98ec073",
   "metadata": {},
   "outputs": [],
   "source": [
    "for i in range(len(files1)) :\n",
    "    tif_files = [f for f in listdir(join(path, files1[i])) if f.endswith(\"_FRE_B3.tif\")]\n",
    "    k=len(str(tif_files))\n",
    "    \n",
    "    files1[i]=path+'/'+files1[i]+'/'+str(tif_files)[2:(k-2)]"
   ]
  },
  {
   "cell_type": "code",
   "execution_count": 8,
   "id": "8ebc89c6",
   "metadata": {},
   "outputs": [],
   "source": [
    "for i in range(len(files2)) :\n",
    "    tif_files = [f for f in listdir(join(path, files2[i])) if f.endswith(\"_FRE_B4.tif\")]\n",
    "    k=len(str(tif_files))\n",
    "    \n",
    "    files2[i]=path+'/'+files2[i]+'/'+str(tif_files)[2:(k-2)]"
   ]
  },
  {
   "cell_type": "code",
   "execution_count": 9,
   "id": "355f541b",
   "metadata": {},
   "outputs": [],
   "source": [
    "import os\n",
    "\n",
    "file_list = os.listdir(\"/home/fouzai/Bureau/maja_sentinel2/21NZG\")\n",
    "\n",
    "def last_4chars(x):\n",
    "    return(x[11:19])\n",
    "\n",
    "file=sorted(file_list, key = last_4chars)  \n",
    "for i in range(len(file)) :\n",
    "    files[i]=path+'/'+file[i]+'/'+file[i]+'_FRE_B4.tif'\n",
    "    files1[i]=path+'/'+file[i]+'/'+file[i]+'_FRE_B3.tif'\n",
    "    files2[i]=path+'/'+file[i]+'/'+file[i]+'_FRE_B2.tif'\n",
    "\n",
    "\n",
    "files3=[None] * (len(files))*3\n",
    "p=0\n",
    "for i in range(len(files)):\n",
    "    files3[p]=files[i]\n",
    "    files3[p+1]=files1[i]\n",
    "    files3[p+2]=files2[i]\n",
    "    \n",
    "   \n",
    "    p=p+3"
   ]
  },
  {
   "cell_type": "code",
   "execution_count": 12,
   "id": "c12e61d6",
   "metadata": {},
   "outputs": [
    {
     "name": "stdout",
     "output_type": "stream",
     "text": [
      "['/home/fouzai/Bureau/maja_sentinel2/21NZG/SENTINEL2A_20200911-141100-719_L2A_T21NZG_C_V1-0/SENTINEL2A_20200911-141100-719_L2A_T21NZG_C_V1-0_FRE_B4.tif', '/home/fouzai/Bureau/maja_sentinel2/21NZG/SENTINEL2A_20200911-141100-719_L2A_T21NZG_C_V1-0/SENTINEL2A_20200911-141100-719_L2A_T21NZG_C_V1-0_FRE_B3.tif', '/home/fouzai/Bureau/maja_sentinel2/21NZG/SENTINEL2A_20200911-141100-719_L2A_T21NZG_C_V1-0/SENTINEL2A_20200911-141100-719_L2A_T21NZG_C_V1-0_FRE_B2.tif', '/home/fouzai/Bureau/maja_sentinel2/21NZG/SENTINEL2B_20200916-141058-695_L2A_T21NZG_C_V1-0/SENTINEL2B_20200916-141058-695_L2A_T21NZG_C_V1-0_FRE_B4.tif', '/home/fouzai/Bureau/maja_sentinel2/21NZG/SENTINEL2B_20200916-141058-695_L2A_T21NZG_C_V1-0/SENTINEL2B_20200916-141058-695_L2A_T21NZG_C_V1-0_FRE_B3.tif', '/home/fouzai/Bureau/maja_sentinel2/21NZG/SENTINEL2B_20200916-141058-695_L2A_T21NZG_C_V1-0/SENTINEL2B_20200916-141058-695_L2A_T21NZG_C_V1-0_FRE_B2.tif', '/home/fouzai/Bureau/maja_sentinel2/21NZG/SENTINEL2A_20200921-141101-820_L2A_T21NZG_C_V1-0/SENTINEL2A_20200921-141101-820_L2A_T21NZG_C_V1-0_FRE_B4.tif', '/home/fouzai/Bureau/maja_sentinel2/21NZG/SENTINEL2A_20200921-141101-820_L2A_T21NZG_C_V1-0/SENTINEL2A_20200921-141101-820_L2A_T21NZG_C_V1-0_FRE_B3.tif', '/home/fouzai/Bureau/maja_sentinel2/21NZG/SENTINEL2A_20200921-141101-820_L2A_T21NZG_C_V1-0/SENTINEL2A_20200921-141101-820_L2A_T21NZG_C_V1-0_FRE_B2.tif']\n"
     ]
    }
   ],
   "source": [
    "print(files3[0:9])"
   ]
  },
  {
   "cell_type": "code",
   "execution_count": 27,
   "id": "5975d917",
   "metadata": {},
   "outputs": [
    {
     "name": "stdout",
     "output_type": "stream",
     "text": [
      "2022-05-27 15:23:07 (INFO) ConcatenateImages: Default RAM limit for OTB is 256 MB\n",
      "2022-05-27 15:23:07 (INFO) ConcatenateImages: GDAL maximum cache size is 1593 MB\n",
      "2022-05-27 15:23:07 (INFO) ConcatenateImages: OTB will use at most 12 threads\n",
      "2022-05-27 15:23:07 (INFO): Estimated memory for full processing: 44149.6MB (avail.: 256 MB), optimal image partitioning: 173 blocks\n",
      "2022-05-27 15:23:07 (INFO): File /home/fouzai/Bureau/Stack_B2B3B41.TIF will be written in 172 blocks of 10980x64 pixels\n",
      "2022-05-27 15:23:07 (INFO): Estimated memory for full processing: 33342.8MB (avail.: 256 MB), optimal image partitioning: 131 blocks\n",
      "Writing 1 output images ...: 100% [**************************************************] (35s)\n"
     ]
    },
    {
     "data": {
      "text/plain": [
       "0"
      ]
     },
     "execution_count": 27,
     "metadata": {},
     "output_type": "execute_result"
    }
   ],
   "source": [
    "import otbApplication\n",
    "\n",
    "app = otbApplication.Registry.CreateApplication(\"ConcatenateImages\")\n",
    "\n",
    "app.SetParameterStringList(\"il\", files3[0:24])\n",
    "app.SetParameterString(\"out\", \"/home/fouzai/Bureau/Stack_B2B3B41.TIF\")\n",
    "\n",
    "app.ExecuteAndWriteOutput()"
   ]
  },
  {
   "cell_type": "code",
   "execution_count": 28,
   "id": "c2c85687",
   "metadata": {},
   "outputs": [],
   "source": [
    "files1=os.listdir(\"/home/fouzai/Bureau/maja_sentinel2/21NZG\")"
   ]
  },
  {
   "cell_type": "code",
   "execution_count": 29,
   "id": "cf1cc75a",
   "metadata": {},
   "outputs": [],
   "source": [
    "files1.sort()"
   ]
  },
  {
   "cell_type": "code",
   "execution_count": 30,
   "id": "ee605452",
   "metadata": {},
   "outputs": [],
   "source": [
    "import os\n",
    "\n",
    "file_list = os.listdir(\"/home/fouzai/Bureau/maja_sentinel2/21NZG\")\n",
    "\n",
    "def last_4chars(x):\n",
    "    return(x[11:19])\n",
    "\n",
    "file=sorted(file_list, key = last_4chars)  \n",
    "for i in range(len(file)) :\n",
    "    files[i]=path+'/'+file[i]+'/MASKS/'+file[i]+'_MASK_cloud.TIF'\n",
    "\n",
    "\n"
   ]
  },
  {
   "cell_type": "code",
   "execution_count": 32,
   "id": "90b9a21c",
   "metadata": {},
   "outputs": [
    {
     "data": {
      "text/plain": [
       "['/home/fouzai/Bureau/maja_sentinel2/21NZG/SENTINEL2A_20200911-141100-719_L2A_T21NZG_C_V1-0/MASKS/SENTINEL2A_20200911-141100-719_L2A_T21NZG_C_V1-0_MASK_cloud.TIF',\n",
       " '/home/fouzai/Bureau/maja_sentinel2/21NZG/SENTINEL2B_20200916-141058-695_L2A_T21NZG_C_V1-0/MASKS/SENTINEL2B_20200916-141058-695_L2A_T21NZG_C_V1-0_MASK_cloud.TIF',\n",
       " '/home/fouzai/Bureau/maja_sentinel2/21NZG/SENTINEL2A_20200921-141101-820_L2A_T21NZG_C_V1-0/MASKS/SENTINEL2A_20200921-141101-820_L2A_T21NZG_C_V1-0_MASK_cloud.TIF',\n",
       " '/home/fouzai/Bureau/maja_sentinel2/21NZG/SENTINEL2B_20200926-141059-707_L2A_T21NZG_C_V1-0/MASKS/SENTINEL2B_20200926-141059-707_L2A_T21NZG_C_V1-0_MASK_cloud.TIF',\n",
       " '/home/fouzai/Bureau/maja_sentinel2/21NZG/SENTINEL2A_20201001-141102-675_L2A_T21NZG_C_V1-0/MASKS/SENTINEL2A_20201001-141102-675_L2A_T21NZG_C_V1-0_MASK_cloud.TIF',\n",
       " '/home/fouzai/Bureau/maja_sentinel2/21NZG/SENTINEL2B_20201006-141100-110_L2A_T21NZG_C_V1-0/MASKS/SENTINEL2B_20201006-141100-110_L2A_T21NZG_C_V1-0_MASK_cloud.TIF',\n",
       " '/home/fouzai/Bureau/maja_sentinel2/21NZG/SENTINEL2A_20201011-141102-730_L2A_T21NZG_C_V1-0/MASKS/SENTINEL2A_20201011-141102-730_L2A_T21NZG_C_V1-0_MASK_cloud.TIF',\n",
       " '/home/fouzai/Bureau/maja_sentinel2/21NZG/SENTINEL2B_20201016-141100-691_L2A_T21NZG_C_V1-0/MASKS/SENTINEL2B_20201016-141100-691_L2A_T21NZG_C_V1-0_MASK_cloud.TIF']"
      ]
     },
     "execution_count": 32,
     "metadata": {},
     "output_type": "execute_result"
    }
   ],
   "source": [
    "files[0:8]"
   ]
  },
  {
   "cell_type": "code",
   "execution_count": 33,
   "id": "d396692c",
   "metadata": {},
   "outputs": [
    {
     "name": "stdout",
     "output_type": "stream",
     "text": [
      "2022-05-27 15:26:30 (INFO) ConcatenateImages: Default RAM limit for OTB is 256 MB\n",
      "2022-05-27 15:26:30 (INFO) ConcatenateImages: GDAL maximum cache size is 1593 MB\n",
      "2022-05-27 15:26:30 (INFO) ConcatenateImages: OTB will use at most 12 threads\n",
      "2022-05-27 15:26:30 (INFO): Estimated memory for full processing: 14716.5MB (avail.: 256 MB), optimal image partitioning: 58 blocks\n",
      "2022-05-27 15:26:30 (INFO): File /home/fouzai/Bureau/Stack_Masques1.TIF will be written in 59 blocks of 10980x187 pixels\n",
      "2022-05-27 15:26:30 (INFO): Estimated memory for full processing: 11267.6MB (avail.: 256 MB), optimal image partitioning: 45 blocks\n",
      "Writing 1 output images ...: 100% [**************************************************] (10s)\n"
     ]
    },
    {
     "data": {
      "text/plain": [
       "0"
      ]
     },
     "execution_count": 33,
     "metadata": {},
     "output_type": "execute_result"
    }
   ],
   "source": [
    "import otbApplication\n",
    "\n",
    "app = otbApplication.Registry.CreateApplication(\"ConcatenateImages\")\n",
    "\n",
    "app.SetParameterStringList(\"il\", files[0:8])\n",
    "app.SetParameterString(\"out\", \"/home/fouzai/Bureau/Stack_Masques1.TIF\")\n",
    "\n",
    "app.ExecuteAndWriteOutput()"
   ]
  },
  {
   "cell_type": "code",
   "execution_count": 34,
   "id": "b4f04fd0",
   "metadata": {},
   "outputs": [
    {
     "name": "stdout",
     "output_type": "stream",
     "text": [
      "2022-05-27 15:28:12 (INFO) ImageTimeSeriesGapFilling: Default RAM limit for OTB is 256 MB\n",
      "2022-05-27 15:28:12 (INFO) ImageTimeSeriesGapFilling: GDAL maximum cache size is 1593 MB\n",
      "2022-05-27 15:28:12 (INFO) ImageTimeSeriesGapFilling: OTB will use at most 12 threads\n",
      "2022-05-27 15:28:12 (INFO) ImageTimeSeriesGapFilling: Using date file /home/fouzai/Bureau/input.txt\n",
      "2022-05-27 15:28:12 (INFO) ImageTimeSeriesGapFilling: Using output date file /home/fouzai/Bureau/out.txt\n",
      "2022-05-27 15:28:12 (INFO) ImageTimeSeriesGapFilling: Using linear interpolation and 3 components per date \n",
      "2022-05-27 15:28:12 (INFO): Estimated memory for full processing: 17476.1MB (avail.: 256 MB), optimal image partitioning: 69 blocks\n",
      "2022-05-27 15:28:12 (INFO): File /home/fouzai/Bureau/GapFilling_maja.TIF will be written in 70 blocks of 10980x157 pixels\n",
      "Writing /home/fouzai/Bureau/GapFilling_maja.TIF...: 100% [**************************************************] (1m 17s)\n"
     ]
    },
    {
     "data": {
      "text/plain": [
       "0"
      ]
     },
     "execution_count": 34,
     "metadata": {},
     "output_type": "execute_result"
    }
   ],
   "source": [
    "import otbApplication\n",
    "\n",
    "app = otbApplication.Registry.CreateApplication(\"ImageTimeSeriesGapFilling\")\n",
    "\n",
    "app.SetParameterString(\"in\", \"/home/fouzai/Bureau/Stack_B2B3B41.TIF\")\n",
    "app.SetParameterString(\"mask\", \"/home/fouzai/Bureau/Stack_Masques1.TIF\")\n",
    "app.SetParameterString(\"out\",\"/home/fouzai/Bureau/GapFilling_maja.TIF\",)\n",
    "app.SetParameterInt(\"comp\",3)\n",
    "app.SetParameterString(\"it\", \"linear\")\n",
    "app.SetParameterString(\"id\", \"/home/fouzai/Bureau/input.txt\")\n",
    "app.SetParameterString(\"od\", \"/home/fouzai/Bureau/out.txt\")\n",
    "\n",
    "app.ExecuteAndWriteOutput()"
   ]
  },
  {
   "cell_type": "code",
   "execution_count": null,
   "id": "a6c3de0b",
   "metadata": {},
   "outputs": [],
   "source": []
  }
 ],
 "metadata": {
  "kernelspec": {
   "display_name": "Python 3",
   "language": "python",
   "name": "python3"
  },
  "language_info": {
   "codemirror_mode": {
    "name": "ipython",
    "version": 3
   },
   "file_extension": ".py",
   "mimetype": "text/x-python",
   "name": "python",
   "nbconvert_exporter": "python",
   "pygments_lexer": "ipython3",
   "version": "3.6.11"
  }
 },
 "nbformat": 4,
 "nbformat_minor": 5
}
